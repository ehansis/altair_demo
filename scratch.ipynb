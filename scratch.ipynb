{
 "cells": [
  {
   "cell_type": "code",
   "execution_count": 1,
   "metadata": {},
   "outputs": [],
   "source": [
    "import altair as alt\n",
    "from vega_datasets import data"
   ]
  },
  {
   "cell_type": "code",
   "execution_count": 2,
   "metadata": {},
   "outputs": [],
   "source": [
    "df = data.gapminder()"
   ]
  },
  {
   "cell_type": "code",
   "execution_count": 3,
   "metadata": {},
   "outputs": [
    {
     "data": {
      "text/html": [
       "<div>\n",
       "<style scoped>\n",
       "    .dataframe tbody tr th:only-of-type {\n",
       "        vertical-align: middle;\n",
       "    }\n",
       "\n",
       "    .dataframe tbody tr th {\n",
       "        vertical-align: top;\n",
       "    }\n",
       "\n",
       "    .dataframe thead th {\n",
       "        text-align: right;\n",
       "    }\n",
       "</style>\n",
       "<table border=\"1\" class=\"dataframe\">\n",
       "  <thead>\n",
       "    <tr style=\"text-align: right;\">\n",
       "      <th></th>\n",
       "      <th>year</th>\n",
       "      <th>country</th>\n",
       "      <th>cluster</th>\n",
       "      <th>pop</th>\n",
       "      <th>life_expect</th>\n",
       "      <th>fertility</th>\n",
       "    </tr>\n",
       "  </thead>\n",
       "  <tbody>\n",
       "    <tr>\n",
       "      <th>0</th>\n",
       "      <td>1955</td>\n",
       "      <td>Afghanistan</td>\n",
       "      <td>0</td>\n",
       "      <td>8891209</td>\n",
       "      <td>30.332</td>\n",
       "      <td>7.7</td>\n",
       "    </tr>\n",
       "    <tr>\n",
       "      <th>1</th>\n",
       "      <td>1960</td>\n",
       "      <td>Afghanistan</td>\n",
       "      <td>0</td>\n",
       "      <td>9829450</td>\n",
       "      <td>31.997</td>\n",
       "      <td>7.7</td>\n",
       "    </tr>\n",
       "    <tr>\n",
       "      <th>2</th>\n",
       "      <td>1965</td>\n",
       "      <td>Afghanistan</td>\n",
       "      <td>0</td>\n",
       "      <td>10997885</td>\n",
       "      <td>34.020</td>\n",
       "      <td>7.7</td>\n",
       "    </tr>\n",
       "    <tr>\n",
       "      <th>3</th>\n",
       "      <td>1970</td>\n",
       "      <td>Afghanistan</td>\n",
       "      <td>0</td>\n",
       "      <td>12430623</td>\n",
       "      <td>36.088</td>\n",
       "      <td>7.7</td>\n",
       "    </tr>\n",
       "    <tr>\n",
       "      <th>4</th>\n",
       "      <td>1975</td>\n",
       "      <td>Afghanistan</td>\n",
       "      <td>0</td>\n",
       "      <td>14132019</td>\n",
       "      <td>38.438</td>\n",
       "      <td>7.7</td>\n",
       "    </tr>\n",
       "  </tbody>\n",
       "</table>\n",
       "</div>"
      ],
      "text/plain": [
       "   year      country  cluster       pop  life_expect  fertility\n",
       "0  1955  Afghanistan        0   8891209       30.332        7.7\n",
       "1  1960  Afghanistan        0   9829450       31.997        7.7\n",
       "2  1965  Afghanistan        0  10997885       34.020        7.7\n",
       "3  1970  Afghanistan        0  12430623       36.088        7.7\n",
       "4  1975  Afghanistan        0  14132019       38.438        7.7"
      ]
     },
     "execution_count": 3,
     "metadata": {},
     "output_type": "execute_result"
    }
   ],
   "source": [
    "df.head()"
   ]
  },
  {
   "cell_type": "code",
   "execution_count": 4,
   "metadata": {},
   "outputs": [
    {
     "data": {
      "text/plain": [
       "693"
      ]
     },
     "execution_count": 4,
     "metadata": {},
     "output_type": "execute_result"
    }
   ],
   "source": [
    "len(df)"
   ]
  },
  {
   "cell_type": "code",
   "execution_count": 5,
   "metadata": {},
   "outputs": [
    {
     "data": {
      "text/html": [
       "<div>\n",
       "<style scoped>\n",
       "    .dataframe tbody tr th:only-of-type {\n",
       "        vertical-align: middle;\n",
       "    }\n",
       "\n",
       "    .dataframe tbody tr th {\n",
       "        vertical-align: top;\n",
       "    }\n",
       "\n",
       "    .dataframe thead th {\n",
       "        text-align: right;\n",
       "    }\n",
       "</style>\n",
       "<table border=\"1\" class=\"dataframe\">\n",
       "  <thead>\n",
       "    <tr style=\"text-align: right;\">\n",
       "      <th></th>\n",
       "      <th>year</th>\n",
       "      <th>cluster</th>\n",
       "      <th>pop</th>\n",
       "      <th>life_expect</th>\n",
       "      <th>fertility</th>\n",
       "    </tr>\n",
       "  </thead>\n",
       "  <tbody>\n",
       "    <tr>\n",
       "      <th>count</th>\n",
       "      <td>693.000000</td>\n",
       "      <td>693.000000</td>\n",
       "      <td>6.930000e+02</td>\n",
       "      <td>693.000000</td>\n",
       "      <td>693.000000</td>\n",
       "    </tr>\n",
       "    <tr>\n",
       "      <th>mean</th>\n",
       "      <td>1980.000000</td>\n",
       "      <td>2.476190</td>\n",
       "      <td>5.623431e+07</td>\n",
       "      <td>66.146406</td>\n",
       "      <td>3.605755</td>\n",
       "    </tr>\n",
       "    <tr>\n",
       "      <th>std</th>\n",
       "      <td>15.822809</td>\n",
       "      <td>1.446971</td>\n",
       "      <td>1.553014e+08</td>\n",
       "      <td>10.714033</td>\n",
       "      <td>1.921234</td>\n",
       "    </tr>\n",
       "    <tr>\n",
       "      <th>min</th>\n",
       "      <td>1955.000000</td>\n",
       "      <td>0.000000</td>\n",
       "      <td>5.386500e+04</td>\n",
       "      <td>23.599000</td>\n",
       "      <td>0.940000</td>\n",
       "    </tr>\n",
       "    <tr>\n",
       "      <th>25%</th>\n",
       "      <td>1965.000000</td>\n",
       "      <td>1.000000</td>\n",
       "      <td>4.563732e+06</td>\n",
       "      <td>59.957000</td>\n",
       "      <td>2.015000</td>\n",
       "    </tr>\n",
       "    <tr>\n",
       "      <th>50%</th>\n",
       "      <td>1980.000000</td>\n",
       "      <td>3.000000</td>\n",
       "      <td>1.229200e+07</td>\n",
       "      <td>69.498000</td>\n",
       "      <td>2.930000</td>\n",
       "    </tr>\n",
       "    <tr>\n",
       "      <th>75%</th>\n",
       "      <td>1995.000000</td>\n",
       "      <td>3.000000</td>\n",
       "      <td>4.443444e+07</td>\n",
       "      <td>73.840000</td>\n",
       "      <td>5.000500</td>\n",
       "    </tr>\n",
       "    <tr>\n",
       "      <th>max</th>\n",
       "      <td>2005.000000</td>\n",
       "      <td>5.000000</td>\n",
       "      <td>1.303182e+09</td>\n",
       "      <td>82.603000</td>\n",
       "      <td>8.500000</td>\n",
       "    </tr>\n",
       "  </tbody>\n",
       "</table>\n",
       "</div>"
      ],
      "text/plain": [
       "              year     cluster           pop  life_expect   fertility\n",
       "count   693.000000  693.000000  6.930000e+02   693.000000  693.000000\n",
       "mean   1980.000000    2.476190  5.623431e+07    66.146406    3.605755\n",
       "std      15.822809    1.446971  1.553014e+08    10.714033    1.921234\n",
       "min    1955.000000    0.000000  5.386500e+04    23.599000    0.940000\n",
       "25%    1965.000000    1.000000  4.563732e+06    59.957000    2.015000\n",
       "50%    1980.000000    3.000000  1.229200e+07    69.498000    2.930000\n",
       "75%    1995.000000    3.000000  4.443444e+07    73.840000    5.000500\n",
       "max    2005.000000    5.000000  1.303182e+09    82.603000    8.500000"
      ]
     },
     "execution_count": 5,
     "metadata": {},
     "output_type": "execute_result"
    }
   ],
   "source": [
    "df.describe()"
   ]
  },
  {
   "cell_type": "code",
   "execution_count": 7,
   "metadata": {},
   "outputs": [
    {
     "data": {
      "text/plain": [
       "array(['Afghanistan', 'Argentina', 'Aruba', 'Australia', 'Austria',\n",
       "       'Bahamas', 'Bangladesh', 'Barbados', 'Belgium', 'Bolivia',\n",
       "       'Brazil', 'Canada', 'Chile', 'China', 'Colombia', 'Costa Rica',\n",
       "       'Croatia', 'Cuba', 'Dominican Republic', 'Ecuador', 'Egypt',\n",
       "       'El Salvador', 'Finland', 'France', 'Georgia', 'Germany', 'Greece',\n",
       "       'Grenada', 'Haiti', 'Hong Kong', 'Iceland', 'India', 'Indonesia',\n",
       "       'Iran', 'Iraq', 'Ireland', 'Israel', 'Italy', 'Jamaica', 'Japan',\n",
       "       'Kenya', 'South Korea', 'North Korea', 'Lebanon', 'Mexico',\n",
       "       'Netherlands', 'New Zealand', 'Nigeria', 'Norway', 'Pakistan',\n",
       "       'Peru', 'Philippines', 'Poland', 'Portugal', 'Rwanda',\n",
       "       'Saudi Arabia', 'South Africa', 'Spain', 'Switzerland', 'Turkey',\n",
       "       'United Kingdom', 'United States', 'Venezuela'], dtype=object)"
      ]
     },
     "execution_count": 7,
     "metadata": {},
     "output_type": "execute_result"
    }
   ],
   "source": [
    "df['country'].unique()"
   ]
  },
  {
   "cell_type": "code",
   "execution_count": 8,
   "metadata": {},
   "outputs": [
    {
     "data": {
      "text/plain": [
       "3    231\n",
       "1    209\n",
       "4     99\n",
       "5     66\n",
       "2     44\n",
       "0     44\n",
       "Name: cluster, dtype: int64"
      ]
     },
     "execution_count": 8,
     "metadata": {},
     "output_type": "execute_result"
    }
   ],
   "source": [
    "df['cluster'].value_counts()"
   ]
  },
  {
   "cell_type": "code",
   "execution_count": 23,
   "metadata": {},
   "outputs": [
    {
     "data": {
      "text/plain": [
       "{0: \"['Afghanistan' 'Bangladesh' 'India' 'Pakistan']\",\n",
       " 1: \"['Austria' 'Belgium' 'Croatia' 'Finland' 'France' 'Georgia' 'Germany'\\n 'Greece' 'Iceland' 'Ireland' 'Italy' 'Netherlands' 'Norway' 'Poland'\\n 'Portugal' 'Spain' 'Switzerland' 'Turkey' 'United Kingdom']\",\n",
       " 2: \"['Kenya' 'Nigeria' 'Rwanda' 'South Africa']\",\n",
       " 3: \"['Argentina' 'Aruba' 'Bahamas' 'Barbados' 'Bolivia' 'Brazil' 'Canada'\\n 'Chile' 'Colombia' 'Costa Rica' 'Cuba' 'Dominican Republic' 'Ecuador'\\n 'El Salvador' 'Grenada' 'Haiti' 'Jamaica' 'Mexico' 'Peru' 'United States'\\n 'Venezuela']\",\n",
       " 4: \"['Australia' 'China' 'Hong Kong' 'Indonesia' 'Japan' 'South Korea'\\n 'North Korea' 'New Zealand' 'Philippines']\",\n",
       " 5: \"['Egypt' 'Iran' 'Iraq' 'Israel' 'Lebanon' 'Saudi Arabia']\"}"
      ]
     },
     "execution_count": 23,
     "metadata": {},
     "output_type": "execute_result"
    }
   ],
   "source": [
    "{c: str(l) for c, l in df.groupby('cluster')['country'].unique().items()}"
   ]
  },
  {
   "cell_type": "code",
   "execution_count": 25,
   "metadata": {},
   "outputs": [],
   "source": [
    "df['region'] = df['cluster'].map({\n",
    "    0: 'Indian Subcontinent',\n",
    "    1: 'Europe',\n",
    "    2: 'Africa',\n",
    "    3: 'Americas',\n",
    "    4: 'Asia/Pacific',\n",
    "    5: 'Middle East',\n",
    "})"
   ]
  },
  {
   "cell_type": "code",
   "execution_count": 26,
   "metadata": {},
   "outputs": [
    {
     "data": {
      "application/vnd.vegalite.v3+json": {
       "$schema": "https://vega.github.io/schema/vega-lite/v3.4.0.json",
       "config": {
        "mark": {
         "tooltip": null
        },
        "view": {
         "height": 300,
         "width": 400
        }
       },
       "data": {
        "name": "data-eabfee4d53d910a638aa560b10e7b200"
       },
       "datasets": {
        "data-eabfee4d53d910a638aa560b10e7b200": [
         {
          "cluster": 0,
          "country": "Afghanistan",
          "fertility": 7.7,
          "life_expect": 30.332,
          "pop": 8891209,
          "region": "Indian Subcontinent",
          "year": 1955
         },
         {
          "cluster": 0,
          "country": "Afghanistan",
          "fertility": 7.7,
          "life_expect": 31.997,
          "pop": 9829450,
          "region": "Indian Subcontinent",
          "year": 1960
         },
         {
          "cluster": 0,
          "country": "Afghanistan",
          "fertility": 7.7,
          "life_expect": 34.02,
          "pop": 10997885,
          "region": "Indian Subcontinent",
          "year": 1965
         },
         {
          "cluster": 0,
          "country": "Afghanistan",
          "fertility": 7.7,
          "life_expect": 36.088,
          "pop": 12430623,
          "region": "Indian Subcontinent",
          "year": 1970
         },
         {
          "cluster": 0,
          "country": "Afghanistan",
          "fertility": 7.7,
          "life_expect": 38.438,
          "pop": 14132019,
          "region": "Indian Subcontinent",
          "year": 1975
         },
         {
          "cluster": 0,
          "country": "Afghanistan",
          "fertility": 7.8,
          "life_expect": 39.854,
          "pop": 15112149,
          "region": "Indian Subcontinent",
          "year": 1980
         },
         {
          "cluster": 0,
          "country": "Afghanistan",
          "fertility": 7.9,
          "life_expect": 40.822,
          "pop": 13796928,
          "region": "Indian Subcontinent",
          "year": 1985
         },
         {
          "cluster": 0,
          "country": "Afghanistan",
          "fertility": 8,
          "life_expect": 41.674,
          "pop": 14669339,
          "region": "Indian Subcontinent",
          "year": 1990
         },
         {
          "cluster": 0,
          "country": "Afghanistan",
          "fertility": 8,
          "life_expect": 41.763,
          "pop": 20881480,
          "region": "Indian Subcontinent",
          "year": 1995
         },
         {
          "cluster": 0,
          "country": "Afghanistan",
          "fertility": 7.4792,
          "life_expect": 42.129,
          "pop": 23898198,
          "region": "Indian Subcontinent",
          "year": 2000
         },
         {
          "cluster": 0,
          "country": "Afghanistan",
          "fertility": 7.0685,
          "life_expect": 43.828,
          "pop": 29928987,
          "region": "Indian Subcontinent",
          "year": 2005
         },
         {
          "cluster": 3,
          "country": "Argentina",
          "fertility": 3.1265,
          "life_expect": 64.399,
          "pop": 18927821,
          "region": "Americas",
          "year": 1955
         },
         {
          "cluster": 3,
          "country": "Argentina",
          "fertility": 3.0895,
          "life_expect": 65.142,
          "pop": 20616009,
          "region": "Americas",
          "year": 1960
         },
         {
          "cluster": 3,
          "country": "Argentina",
          "fertility": 3.049,
          "life_expect": 65.634,
          "pop": 22283100,
          "region": "Americas",
          "year": 1965
         },
         {
          "cluster": 3,
          "country": "Argentina",
          "fertility": 3.1455,
          "life_expect": 67.065,
          "pop": 23962313,
          "region": "Americas",
          "year": 1970
         },
         {
          "cluster": 3,
          "country": "Argentina",
          "fertility": 3.44,
          "life_expect": 68.481,
          "pop": 26081880,
          "region": "Americas",
          "year": 1975
         },
         {
          "cluster": 3,
          "country": "Argentina",
          "fertility": 3.15,
          "life_expect": 69.942,
          "pop": 28369799,
          "region": "Americas",
          "year": 1980
         },
         {
          "cluster": 3,
          "country": "Argentina",
          "fertility": 3.053,
          "life_expect": 70.774,
          "pop": 30675059,
          "region": "Americas",
          "year": 1985
         },
         {
          "cluster": 3,
          "country": "Argentina",
          "fertility": 2.9,
          "life_expect": 71.868,
          "pop": 33022202,
          "region": "Americas",
          "year": 1990
         },
         {
          "cluster": 3,
          "country": "Argentina",
          "fertility": 2.63,
          "life_expect": 73.275,
          "pop": 35311049,
          "region": "Americas",
          "year": 1995
         },
         {
          "cluster": 3,
          "country": "Argentina",
          "fertility": 2.35,
          "life_expect": 74.34,
          "pop": 37497728,
          "region": "Americas",
          "year": 2000
         },
         {
          "cluster": 3,
          "country": "Argentina",
          "fertility": 2.254,
          "life_expect": 75.32,
          "pop": 39537943,
          "region": "Americas",
          "year": 2005
         },
         {
          "cluster": 3,
          "country": "Aruba",
          "fertility": 5.15,
          "life_expect": 64.381,
          "pop": 53865,
          "region": "Americas",
          "year": 1955
         },
         {
          "cluster": 3,
          "country": "Aruba",
          "fertility": 4.399,
          "life_expect": 66.606,
          "pop": 57203,
          "region": "Americas",
          "year": 1960
         },
         {
          "cluster": 3,
          "country": "Aruba",
          "fertility": 3.301,
          "life_expect": 68.336,
          "pop": 59020,
          "region": "Americas",
          "year": 1965
         },
         {
          "cluster": 3,
          "country": "Aruba",
          "fertility": 2.651,
          "life_expect": 70.941,
          "pop": 59039,
          "region": "Americas",
          "year": 1970
         },
         {
          "cluster": 3,
          "country": "Aruba",
          "fertility": 2.45,
          "life_expect": 71.83,
          "pop": 59390,
          "region": "Americas",
          "year": 1975
         },
         {
          "cluster": 3,
          "country": "Aruba",
          "fertility": 2.358,
          "life_expect": 74.116,
          "pop": 60266,
          "region": "Americas",
          "year": 1980
         },
         {
          "cluster": 3,
          "country": "Aruba",
          "fertility": 2.3,
          "life_expect": 74.494,
          "pop": 64129,
          "region": "Americas",
          "year": 1985
         },
         {
          "cluster": 3,
          "country": "Aruba",
          "fertility": 2.2800000000000002,
          "life_expect": 74.108,
          "pop": 66653,
          "region": "Americas",
          "year": 1990
         },
         {
          "cluster": 3,
          "country": "Aruba",
          "fertility": 2.208,
          "life_expect": 73.011,
          "pop": 67836,
          "region": "Americas",
          "year": 1995
         },
         {
          "cluster": 3,
          "country": "Aruba",
          "fertility": 2.124,
          "life_expect": 73.451,
          "pop": 69539,
          "region": "Americas",
          "year": 2000
         },
         {
          "cluster": 3,
          "country": "Aruba",
          "fertility": 2.04,
          "life_expect": 74.239,
          "pop": 71566,
          "region": "Americas",
          "year": 2005
         },
         {
          "cluster": 4,
          "country": "Australia",
          "fertility": 3.406,
          "life_expect": 70.33,
          "pop": 9277087,
          "region": "Asia/Pacific",
          "year": 1955
         },
         {
          "cluster": 4,
          "country": "Australia",
          "fertility": 3.274,
          "life_expect": 70.93,
          "pop": 10361273,
          "region": "Asia/Pacific",
          "year": 1960
         },
         {
          "cluster": 4,
          "country": "Australia",
          "fertility": 2.871,
          "life_expect": 71.1,
          "pop": 11439384,
          "region": "Asia/Pacific",
          "year": 1965
         },
         {
          "cluster": 4,
          "country": "Australia",
          "fertility": 2.535,
          "life_expect": 71.93,
          "pop": 12660160,
          "region": "Asia/Pacific",
          "year": 1970
         },
         {
          "cluster": 4,
          "country": "Australia",
          "fertility": 1.9889999999999999,
          "life_expect": 73.49,
          "pop": 13771400,
          "region": "Asia/Pacific",
          "year": 1975
         },
         {
          "cluster": 4,
          "country": "Australia",
          "fertility": 1.907,
          "life_expect": 74.74,
          "pop": 14615900,
          "region": "Asia/Pacific",
          "year": 1980
         },
         {
          "cluster": 4,
          "country": "Australia",
          "fertility": 1.859,
          "life_expect": 76.32,
          "pop": 15788300,
          "region": "Asia/Pacific",
          "year": 1985
         },
         {
          "cluster": 4,
          "country": "Australia",
          "fertility": 1.8599999999999999,
          "life_expect": 77.56,
          "pop": 17022133,
          "region": "Asia/Pacific",
          "year": 1990
         },
         {
          "cluster": 4,
          "country": "Australia",
          "fertility": 1.776,
          "life_expect": 78.83,
          "pop": 18116171,
          "region": "Asia/Pacific",
          "year": 1995
         },
         {
          "cluster": 4,
          "country": "Australia",
          "fertility": 1.756,
          "life_expect": 80.37,
          "pop": 19164620,
          "region": "Asia/Pacific",
          "year": 2000
         },
         {
          "cluster": 4,
          "country": "Australia",
          "fertility": 1.788,
          "life_expect": 81.235,
          "pop": 20090437,
          "region": "Asia/Pacific",
          "year": 2005
         },
         {
          "cluster": 1,
          "country": "Austria",
          "fertility": 2.52,
          "life_expect": 67.48,
          "pop": 6946885,
          "region": "Europe",
          "year": 1955
         },
         {
          "cluster": 1,
          "country": "Austria",
          "fertility": 2.7800000000000002,
          "life_expect": 69.54,
          "pop": 7047437,
          "region": "Europe",
          "year": 1960
         },
         {
          "cluster": 1,
          "country": "Austria",
          "fertility": 2.5300000000000002,
          "life_expect": 70.14,
          "pop": 7270889,
          "region": "Europe",
          "year": 1965
         },
         {
          "cluster": 1,
          "country": "Austria",
          "fertility": 2.02,
          "life_expect": 70.63,
          "pop": 7467086,
          "region": "Europe",
          "year": 1970
         },
         {
          "cluster": 1,
          "country": "Austria",
          "fertility": 1.6400000000000001,
          "life_expect": 72.17,
          "pop": 7578903,
          "region": "Europe",
          "year": 1975
         },
         {
          "cluster": 1,
          "country": "Austria",
          "fertility": 1.62,
          "life_expect": 73.18,
          "pop": 7549433,
          "region": "Europe",
          "year": 1980
         },
         {
          "cluster": 1,
          "country": "Austria",
          "fertility": 1.45,
          "life_expect": 74.94,
          "pop": 7559776,
          "region": "Europe",
          "year": 1985
         },
         {
          "cluster": 1,
          "country": "Austria",
          "fertility": 1.47,
          "life_expect": 76.04,
          "pop": 7722953,
          "region": "Europe",
          "year": 1990
         },
         {
          "cluster": 1,
          "country": "Austria",
          "fertility": 1.388,
          "life_expect": 77.51,
          "pop": 8047433,
          "region": "Europe",
          "year": 1995
         },
         {
          "cluster": 1,
          "country": "Austria",
          "fertility": 1.3820000000000001,
          "life_expect": 78.98,
          "pop": 8113413,
          "region": "Europe",
          "year": 2000
         },
         {
          "cluster": 1,
          "country": "Austria",
          "fertility": 1.42,
          "life_expect": 79.829,
          "pop": 8184691,
          "region": "Europe",
          "year": 2005
         },
         {
          "cluster": 3,
          "country": "Bahamas",
          "fertility": 4.305,
          "life_expect": 62.405,
          "pop": 87138,
          "region": "Americas",
          "year": 1955
         },
         {
          "cluster": 3,
          "country": "Bahamas",
          "fertility": 4.503,
          "life_expect": 64.209,
          "pop": 112234,
          "region": "Americas",
          "year": 1960
         },
         {
          "cluster": 3,
          "country": "Bahamas",
          "fertility": 3.794,
          "life_expect": 65.795,
          "pop": 139205,
          "region": "Americas",
          "year": 1965
         },
         {
          "cluster": 3,
          "country": "Bahamas",
          "fertility": 3.444,
          "life_expect": 66.515,
          "pop": 170323,
          "region": "Americas",
          "year": 1970
         },
         {
          "cluster": 3,
          "country": "Bahamas",
          "fertility": 3.221,
          "life_expect": 67.199,
          "pop": 189139,
          "region": "Americas",
          "year": 1975
         },
         {
          "cluster": 3,
          "country": "Bahamas",
          "fertility": 3.16,
          "life_expect": 67.874,
          "pop": 209944,
          "region": "Americas",
          "year": 1980
         },
         {
          "cluster": 3,
          "country": "Bahamas",
          "fertility": 2.62,
          "life_expect": 69.524,
          "pop": 234988,
          "region": "Americas",
          "year": 1985
         },
         {
          "cluster": 3,
          "country": "Bahamas",
          "fertility": 2.6,
          "life_expect": 69.171,
          "pop": 257253,
          "region": "Americas",
          "year": 1990
         },
         {
          "cluster": 3,
          "country": "Bahamas",
          "fertility": 2.4,
          "life_expect": 68.472,
          "pop": 275303,
          "region": "Americas",
          "year": 1995
         },
         {
          "cluster": 3,
          "country": "Bahamas",
          "fertility": 2.1111,
          "life_expect": 71.068,
          "pop": 290075,
          "region": "Americas",
          "year": 2000
         },
         {
          "cluster": 3,
          "country": "Bahamas",
          "fertility": 2.0221,
          "life_expect": 73.495,
          "pop": 301790,
          "region": "Americas",
          "year": 2005
         },
         {
          "cluster": 0,
          "country": "Bangladesh",
          "fertility": 6.76,
          "life_expect": 39.348,
          "pop": 49601520,
          "region": "Indian Subcontinent",
          "year": 1955
         },
         {
          "cluster": 0,
          "country": "Bangladesh",
          "fertility": 6.85,
          "life_expect": 41.216,
          "pop": 54621538,
          "region": "Indian Subcontinent",
          "year": 1960
         },
         {
          "cluster": 0,
          "country": "Bangladesh",
          "fertility": 6.6,
          "life_expect": 43.453,
          "pop": 60332117,
          "region": "Indian Subcontinent",
          "year": 1965
         },
         {
          "cluster": 0,
          "country": "Bangladesh",
          "fertility": 6.15,
          "life_expect": 45.252,
          "pop": 67402621,
          "region": "Indian Subcontinent",
          "year": 1970
         },
         {
          "cluster": 0,
          "country": "Bangladesh",
          "fertility": 5.6,
          "life_expect": 46.923,
          "pop": 76253310,
          "region": "Indian Subcontinent",
          "year": 1975
         },
         {
          "cluster": 0,
          "country": "Bangladesh",
          "fertility": 5.25,
          "life_expect": 50.009,
          "pop": 88076996,
          "region": "Indian Subcontinent",
          "year": 1980
         },
         {
          "cluster": 0,
          "country": "Bangladesh",
          "fertility": 4.629,
          "life_expect": 52.819,
          "pop": 99752733,
          "region": "Indian Subcontinent",
          "year": 1985
         },
         {
          "cluster": 0,
          "country": "Bangladesh",
          "fertility": 4.117,
          "life_expect": 56.018,
          "pop": 109896945,
          "region": "Indian Subcontinent",
          "year": 1990
         },
         {
          "cluster": 0,
          "country": "Bangladesh",
          "fertility": 3.5042999999999997,
          "life_expect": 59.412,
          "pop": 119186448,
          "region": "Indian Subcontinent",
          "year": 1995
         },
         {
          "cluster": 0,
          "country": "Bangladesh",
          "fertility": 3.224,
          "life_expect": 62.013,
          "pop": 130406594,
          "region": "Indian Subcontinent",
          "year": 2000
         },
         {
          "cluster": 0,
          "country": "Bangladesh",
          "fertility": 2.826,
          "life_expect": 64.062,
          "pop": 144319628,
          "region": "Indian Subcontinent",
          "year": 2005
         },
         {
          "cluster": 3,
          "country": "Barbados",
          "fertility": 4.67,
          "life_expect": 62.57,
          "pop": 227255,
          "region": "Americas",
          "year": 1955
         },
         {
          "cluster": 3,
          "country": "Barbados",
          "fertility": 4.26,
          "life_expect": 65.87,
          "pop": 232339,
          "region": "Americas",
          "year": 1960
         },
         {
          "cluster": 3,
          "country": "Barbados",
          "fertility": 3.45,
          "life_expect": 67.62,
          "pop": 234980,
          "region": "Americas",
          "year": 1965
         },
         {
          "cluster": 3,
          "country": "Barbados",
          "fertility": 2.74,
          "life_expect": 69.42,
          "pop": 238756,
          "region": "Americas",
          "year": 1970
         },
         {
          "cluster": 3,
          "country": "Barbados",
          "fertility": 2.19,
          "life_expect": 71.27,
          "pop": 247147,
          "region": "Americas",
          "year": 1975
         },
         {
          "cluster": 3,
          "country": "Barbados",
          "fertility": 1.92,
          "life_expect": 72.695,
          "pop": 251966,
          "region": "Americas",
          "year": 1980
         },
         {
          "cluster": 3,
          "country": "Barbados",
          "fertility": 1.75,
          "life_expect": 74.027,
          "pop": 257446,
          "region": "Americas",
          "year": 1985
         },
         {
          "cluster": 3,
          "country": "Barbados",
          "fertility": 1.6,
          "life_expect": 74.894,
          "pop": 262624,
          "region": "Americas",
          "year": 1990
         },
         {
          "cluster": 3,
          "country": "Barbados",
          "fertility": 1.5,
          "life_expect": 74.912,
          "pop": 267907,
          "region": "Americas",
          "year": 1995
         },
         {
          "cluster": 3,
          "country": "Barbados",
          "fertility": 1.5,
          "life_expect": 75.97,
          "pop": 273483,
          "region": "Americas",
          "year": 2000
         },
         {
          "cluster": 3,
          "country": "Barbados",
          "fertility": 1.5,
          "life_expect": 77.296,
          "pop": 278870,
          "region": "Americas",
          "year": 2005
         },
         {
          "cluster": 1,
          "country": "Belgium",
          "fertility": 2.496,
          "life_expect": 69.24,
          "pop": 8868475,
          "region": "Europe",
          "year": 1955
         },
         {
          "cluster": 1,
          "country": "Belgium",
          "fertility": 2.644,
          "life_expect": 70.25,
          "pop": 9118700,
          "region": "Europe",
          "year": 1960
         },
         {
          "cluster": 1,
          "country": "Belgium",
          "fertility": 2.392,
          "life_expect": 70.94,
          "pop": 9448100,
          "region": "Europe",
          "year": 1965
         },
         {
          "cluster": 1,
          "country": "Belgium",
          "fertility": 2.015,
          "life_expect": 71.44,
          "pop": 9637800,
          "region": "Europe",
          "year": 1970
         },
         {
          "cluster": 1,
          "country": "Belgium",
          "fertility": 1.705,
          "life_expect": 72.8,
          "pop": 9794800,
          "region": "Europe",
          "year": 1975
         },
         {
          "cluster": 1,
          "country": "Belgium",
          "fertility": 1.595,
          "life_expect": 73.93,
          "pop": 9846800,
          "region": "Europe",
          "year": 1980
         },
         {
          "cluster": 1,
          "country": "Belgium",
          "fertility": 1.5590000000000002,
          "life_expect": 75.35,
          "pop": 9858200,
          "region": "Europe",
          "year": 1985
         },
         {
          "cluster": 1,
          "country": "Belgium",
          "fertility": 1.613,
          "life_expect": 76.46,
          "pop": 9969310,
          "region": "Europe",
          "year": 1990
         },
         {
          "cluster": 1,
          "country": "Belgium",
          "fertility": 1.604,
          "life_expect": 77.53,
          "pop": 10155459,
          "region": "Europe",
          "year": 1995
         },
         {
          "cluster": 1,
          "country": "Belgium",
          "fertility": 1.638,
          "life_expect": 78.32,
          "pop": 10263618,
          "region": "Europe",
          "year": 2000
         },
         {
          "cluster": 1,
          "country": "Belgium",
          "fertility": 1.646,
          "life_expect": 79.441,
          "pop": 10364388,
          "region": "Europe",
          "year": 2005
         },
         {
          "cluster": 3,
          "country": "Bolivia",
          "fertility": 6.75,
          "life_expect": 41.89,
          "pop": 3074311,
          "region": "Americas",
          "year": 1955
         },
         {
          "cluster": 3,
          "country": "Bolivia",
          "fertility": 6.63,
          "life_expect": 43.428,
          "pop": 3434073,
          "region": "Americas",
          "year": 1960
         },
         {
          "cluster": 3,
          "country": "Bolivia",
          "fertility": 6.5600000000000005,
          "life_expect": 45.032,
          "pop": 3853315,
          "region": "Americas",
          "year": 1965
         },
         {
          "cluster": 3,
          "country": "Bolivia",
          "fertility": 6.5,
          "life_expect": 46.714,
          "pop": 4346218,
          "region": "Americas",
          "year": 1970
         },
         {
          "cluster": 3,
          "country": "Bolivia",
          "fertility": 5.8,
          "life_expect": 50.023,
          "pop": 4914316,
          "region": "Americas",
          "year": 1975
         },
         {
          "cluster": 3,
          "country": "Bolivia",
          "fertility": 5.2995,
          "life_expect": 53.859,
          "pop": 5441298,
          "region": "Americas",
          "year": 1980
         },
         {
          "cluster": 3,
          "country": "Bolivia",
          "fertility": 5,
          "life_expect": 57.251,
          "pop": 5934935,
          "region": "Americas",
          "year": 1985
         },
         {
          "cluster": 3,
          "country": "Bolivia",
          "fertility": 4.8,
          "life_expect": 59.957,
          "pop": 6573900,
          "region": "Americas",
          "year": 1990
         },
         {
          "cluster": 3,
          "country": "Bolivia",
          "fertility": 4.324,
          "life_expect": 62.05,
          "pop": 7376582,
          "region": "Americas",
          "year": 1995
         },
         {
          "cluster": 3,
          "country": "Bolivia",
          "fertility": 3.9585,
          "life_expect": 63.883,
          "pop": 8152620,
          "region": "Americas",
          "year": 2000
         },
         {
          "cluster": 3,
          "country": "Bolivia",
          "fertility": 3.5,
          "life_expect": 65.554,
          "pop": 8857870,
          "region": "Americas",
          "year": 2005
         },
         {
          "cluster": 3,
          "country": "Brazil",
          "fertility": 6.1501,
          "life_expect": 53.285,
          "pop": 61773546,
          "region": "Americas",
          "year": 1955
         },
         {
          "cluster": 3,
          "country": "Brazil",
          "fertility": 6.1501,
          "life_expect": 55.665,
          "pop": 71694810,
          "region": "Americas",
          "year": 1960
         },
         {
          "cluster": 3,
          "country": "Brazil",
          "fertility": 5.38,
          "life_expect": 57.632,
          "pop": 83092908,
          "region": "Americas",
          "year": 1965
         },
         {
          "cluster": 3,
          "country": "Brazil",
          "fertility": 4.7175,
          "life_expect": 59.504,
          "pop": 95684297,
          "region": "Americas",
          "year": 1970
         },
         {
          "cluster": 3,
          "country": "Brazil",
          "fertility": 4.305,
          "life_expect": 61.489,
          "pop": 108823732,
          "region": "Americas",
          "year": 1975
         },
         {
          "cluster": 3,
          "country": "Brazil",
          "fertility": 3.8,
          "life_expect": 63.336,
          "pop": 122958132,
          "region": "Americas",
          "year": 1980
         },
         {
          "cluster": 3,
          "country": "Brazil",
          "fertility": 3.1,
          "life_expect": 65.205,
          "pop": 137302933,
          "region": "Americas",
          "year": 1985
         },
         {
          "cluster": 3,
          "country": "Brazil",
          "fertility": 2.6,
          "life_expect": 67.057,
          "pop": 151083809,
          "region": "Americas",
          "year": 1990
         },
         {
          "cluster": 3,
          "country": "Brazil",
          "fertility": 2.45,
          "life_expect": 69.388,
          "pop": 163542501,
          "region": "Americas",
          "year": 1995
         },
         {
          "cluster": 3,
          "country": "Brazil",
          "fertility": 2.345,
          "life_expect": 71.006,
          "pop": 175552771,
          "region": "Americas",
          "year": 2000
         },
         {
          "cluster": 3,
          "country": "Brazil",
          "fertility": 2.245,
          "life_expect": 72.39,
          "pop": 186112794,
          "region": "Americas",
          "year": 2005
         },
         {
          "cluster": 3,
          "country": "Canada",
          "fertility": 3.882,
          "life_expect": 69.96,
          "pop": 16050356,
          "region": "Americas",
          "year": 1955
         },
         {
          "cluster": 3,
          "country": "Canada",
          "fertility": 3.675,
          "life_expect": 71.3,
          "pop": 18266765,
          "region": "Americas",
          "year": 1960
         },
         {
          "cluster": 3,
          "country": "Canada",
          "fertility": 2.61,
          "life_expect": 72.13,
          "pop": 20071104,
          "region": "Americas",
          "year": 1965
         },
         {
          "cluster": 3,
          "country": "Canada",
          "fertility": 1.976,
          "life_expect": 72.88,
          "pop": 21749986,
          "region": "Americas",
          "year": 1970
         },
         {
          "cluster": 3,
          "country": "Canada",
          "fertility": 1.734,
          "life_expect": 74.21,
          "pop": 23209200,
          "region": "Americas",
          "year": 1975
         },
         {
          "cluster": 3,
          "country": "Canada",
          "fertility": 1.634,
          "life_expect": 75.76,
          "pop": 24593300,
          "region": "Americas",
          "year": 1980
         },
         {
          "cluster": 3,
          "country": "Canada",
          "fertility": 1.616,
          "life_expect": 76.86,
          "pop": 25941600,
          "region": "Americas",
          "year": 1985
         },
         {
          "cluster": 3,
          "country": "Canada",
          "fertility": 1.694,
          "life_expect": 77.95,
          "pop": 27790600,
          "region": "Americas",
          "year": 1990
         },
         {
          "cluster": 3,
          "country": "Canada",
          "fertility": 1.564,
          "life_expect": 78.61,
          "pop": 29619002,
          "region": "Americas",
          "year": 1995
         },
         {
          "cluster": 3,
          "country": "Canada",
          "fertility": 1.522,
          "life_expect": 79.77,
          "pop": 31278097,
          "region": "Americas",
          "year": 2000
         },
         {
          "cluster": 3,
          "country": "Canada",
          "fertility": 1.5270000000000001,
          "life_expect": 80.653,
          "pop": 32805041,
          "region": "Americas",
          "year": 2005
         },
         {
          "cluster": 3,
          "country": "Chile",
          "fertility": 5.486,
          "life_expect": 56.074,
          "pop": 6743269,
          "region": "Americas",
          "year": 1955
         },
         {
          "cluster": 3,
          "country": "Chile",
          "fertility": 5.4385,
          "life_expect": 57.924,
          "pop": 7585349,
          "region": "Americas",
          "year": 1960
         },
         {
          "cluster": 3,
          "country": "Chile",
          "fertility": 4.4405,
          "life_expect": 60.523,
          "pop": 8509950,
          "region": "Americas",
          "year": 1965
         },
         {
          "cluster": 3,
          "country": "Chile",
          "fertility": 3.63,
          "life_expect": 63.441,
          "pop": 9368558,
          "region": "Americas",
          "year": 1970
         },
         {
          "cluster": 3,
          "country": "Chile",
          "fertility": 2.803,
          "life_expect": 67.052,
          "pop": 10251542,
          "region": "Americas",
          "year": 1975
         },
         {
          "cluster": 3,
          "country": "Chile",
          "fertility": 2.6710000000000003,
          "life_expect": 70.565,
          "pop": 11093718,
          "region": "Americas",
          "year": 1980
         },
         {
          "cluster": 3,
          "country": "Chile",
          "fertility": 2.65,
          "life_expect": 72.492,
          "pop": 12066701,
          "region": "Americas",
          "year": 1985
         },
         {
          "cluster": 3,
          "country": "Chile",
          "fertility": 2.55,
          "life_expect": 74.126,
          "pop": 13127760,
          "region": "Americas",
          "year": 1990
         },
         {
          "cluster": 3,
          "country": "Chile",
          "fertility": 2.21,
          "life_expect": 75.816,
          "pop": 14205449,
          "region": "Americas",
          "year": 1995
         },
         {
          "cluster": 3,
          "country": "Chile",
          "fertility": 2,
          "life_expect": 77.86,
          "pop": 15153450,
          "region": "Americas",
          "year": 2000
         },
         {
          "cluster": 3,
          "country": "Chile",
          "fertility": 1.944,
          "life_expect": 78.553,
          "pop": 15980912,
          "region": "Americas",
          "year": 2005
         },
         {
          "cluster": 4,
          "country": "China",
          "fertility": 5.59,
          "life_expect": 50.54896,
          "pop": 608655000,
          "region": "Asia/Pacific",
          "year": 1955
         },
         {
          "cluster": 4,
          "country": "China",
          "fertility": 5.72,
          "life_expect": 44.50136,
          "pop": 667070000,
          "region": "Asia/Pacific",
          "year": 1960
         },
         {
          "cluster": 4,
          "country": "China",
          "fertility": 6.06,
          "life_expect": 58.38112,
          "pop": 715185000,
          "region": "Asia/Pacific",
          "year": 1965
         },
         {
          "cluster": 4,
          "country": "China",
          "fertility": 4.86,
          "life_expect": 63.11888,
          "pop": 818315000,
          "region": "Asia/Pacific",
          "year": 1970
         },
         {
          "cluster": 4,
          "country": "China",
          "fertility": 3.32,
          "life_expect": 63.96736,
          "pop": 916395000,
          "region": "Asia/Pacific",
          "year": 1975
         },
         {
          "cluster": 4,
          "country": "China",
          "fertility": 2.55,
          "life_expect": 65.525,
          "pop": 981235000,
          "region": "Asia/Pacific",
          "year": 1980
         },
         {
          "cluster": 4,
          "country": "China",
          "fertility": 2.46,
          "life_expect": 67.274,
          "pop": 1051040000,
          "region": "Asia/Pacific",
          "year": 1985
         },
         {
          "cluster": 4,
          "country": "China",
          "fertility": 1.92,
          "life_expect": 68.69,
          "pop": 1135185000,
          "region": "Asia/Pacific",
          "year": 1990
         },
         {
          "cluster": 4,
          "country": "China",
          "fertility": 1.7810000000000001,
          "life_expect": 70.426,
          "pop": 1204855000,
          "region": "Asia/Pacific",
          "year": 1995
         },
         {
          "cluster": 4,
          "country": "China",
          "fertility": 1.7000000000000002,
          "life_expect": 72.028,
          "pop": 1262645000,
          "region": "Asia/Pacific",
          "year": 2000
         },
         {
          "cluster": 4,
          "country": "China",
          "fertility": 1.725,
          "life_expect": 72.961,
          "pop": 1303182268,
          "region": "Asia/Pacific",
          "year": 2005
         },
         {
          "cluster": 3,
          "country": "Colombia",
          "fertility": 6.76,
          "life_expect": 55.118,
          "pop": 13588405,
          "region": "Americas",
          "year": 1955
         },
         {
          "cluster": 3,
          "country": "Colombia",
          "fertility": 6.76,
          "life_expect": 57.863,
          "pop": 15952727,
          "region": "Americas",
          "year": 1960
         },
         {
          "cluster": 3,
          "country": "Colombia",
          "fertility": 6.18,
          "life_expect": 59.963,
          "pop": 18646175,
          "region": "Americas",
          "year": 1965
         },
         {
          "cluster": 3,
          "country": "Colombia",
          "fertility": 5.0005,
          "life_expect": 61.623,
          "pop": 21429658,
          "region": "Americas",
          "year": 1970
         },
         {
          "cluster": 3,
          "country": "Colombia",
          "fertility": 4.3385,
          "life_expect": 63.837,
          "pop": 24114177,
          "region": "Americas",
          "year": 1975
         },
         {
          "cluster": 3,
          "country": "Colombia",
          "fertility": 3.685,
          "life_expect": 66.653,
          "pop": 26582811,
          "region": "Americas",
          "year": 1980
         },
         {
          "cluster": 3,
          "country": "Colombia",
          "fertility": 3.172,
          "life_expect": 67.768,
          "pop": 29678395,
          "region": "Americas",
          "year": 1985
         },
         {
          "cluster": 3,
          "country": "Colombia",
          "fertility": 2.93005,
          "life_expect": 68.421,
          "pop": 32858579,
          "region": "Americas",
          "year": 1990
         },
         {
          "cluster": 3,
          "country": "Colombia",
          "fertility": 2.7,
          "life_expect": 70.313,
          "pop": 36280883,
          "region": "Americas",
          "year": 1995
         },
         {
          "cluster": 3,
          "country": "Colombia",
          "fertility": 2.4705,
          "life_expect": 71.682,
          "pop": 39685655,
          "region": "Americas",
          "year": 2000
         },
         {
          "cluster": 3,
          "country": "Colombia",
          "fertility": 2.2205,
          "life_expect": 72.889,
          "pop": 42954279,
          "region": "Americas",
          "year": 2005
         },
         {
          "cluster": 3,
          "country": "Costa Rica",
          "fertility": 7.1135,
          "life_expect": 60.026,
          "pop": 1031782,
          "region": "Americas",
          "year": 1955
         },
         {
          "cluster": 3,
          "country": "Costa Rica",
          "fertility": 7.2245,
          "life_expect": 62.842,
          "pop": 1248022,
          "region": "Americas",
          "year": 1960
         },
         {
          "cluster": 3,
          "country": "Costa Rica",
          "fertility": 5.801,
          "life_expect": 65.424,
          "pop": 1487605,
          "region": "Americas",
          "year": 1965
         },
         {
          "cluster": 3,
          "country": "Costa Rica",
          "fertility": 4.346,
          "life_expect": 67.849,
          "pop": 1735523,
          "region": "Americas",
          "year": 1970
         },
         {
          "cluster": 3,
          "country": "Costa Rica",
          "fertility": 3.7755,
          "life_expect": 70.75,
          "pop": 1991580,
          "region": "Americas",
          "year": 1975
         },
         {
          "cluster": 3,
          "country": "Costa Rica",
          "fertility": 3.527,
          "life_expect": 73.45,
          "pop": 2299124,
          "region": "Americas",
          "year": 1980
         },
         {
          "cluster": 3,
          "country": "Costa Rica",
          "fertility": 3.374,
          "life_expect": 74.752,
          "pop": 2643808,
          "region": "Americas",
          "year": 1985
         },
         {
          "cluster": 3,
          "country": "Costa Rica",
          "fertility": 2.9450000000000003,
          "life_expect": 75.713,
          "pop": 3027175,
          "region": "Americas",
          "year": 1990
         },
         {
          "cluster": 3,
          "country": "Costa Rica",
          "fertility": 2.5835,
          "life_expect": 77.26,
          "pop": 3383786,
          "region": "Americas",
          "year": 1995
         },
         {
          "cluster": 3,
          "country": "Costa Rica",
          "fertility": 2.2815,
          "life_expect": 78.123,
          "pop": 3710558,
          "region": "Americas",
          "year": 2000
         },
         {
          "cluster": 3,
          "country": "Costa Rica",
          "fertility": 2.0985,
          "life_expect": 78.782,
          "pop": 4016173,
          "region": "Americas",
          "year": 2005
         },
         {
          "cluster": 1,
          "country": "Croatia",
          "fertility": 2.42,
          "life_expect": 64.77,
          "pop": 3955526,
          "region": "Europe",
          "year": 1955
         },
         {
          "cluster": 1,
          "country": "Croatia",
          "fertility": 2.27,
          "life_expect": 67.13,
          "pop": 4036145,
          "region": "Europe",
          "year": 1960
         },
         {
          "cluster": 1,
          "country": "Croatia",
          "fertility": 2.09,
          "life_expect": 68.5,
          "pop": 4133313,
          "region": "Europe",
          "year": 1965
         },
         {
          "cluster": 1,
          "country": "Croatia",
          "fertility": 1.96,
          "life_expect": 69.61,
          "pop": 4205389,
          "region": "Europe",
          "year": 1970
         },
         {
          "cluster": 1,
          "country": "Croatia",
          "fertility": 2.02,
          "life_expect": 70.64,
          "pop": 4255000,
          "region": "Europe",
          "year": 1975
         },
         {
          "cluster": 1,
          "country": "Croatia",
          "fertility": 1.96,
          "life_expect": 70.46,
          "pop": 4383000,
          "region": "Europe",
          "year": 1980
         },
         {
          "cluster": 1,
          "country": "Croatia",
          "fertility": 1.8399999999999999,
          "life_expect": 71.52,
          "pop": 4457874,
          "region": "Europe",
          "year": 1985
         },
         {
          "cluster": 1,
          "country": "Croatia",
          "fertility": 1.52,
          "life_expect": 72.527,
          "pop": 4508347,
          "region": "Europe",
          "year": 1990
         },
         {
          "cluster": 1,
          "country": "Croatia",
          "fertility": 1.537,
          "life_expect": 73.68,
          "pop": 4496683,
          "region": "Europe",
          "year": 1995
         },
         {
          "cluster": 1,
          "country": "Croatia",
          "fertility": 1.348,
          "life_expect": 74.876,
          "pop": 4410830,
          "region": "Europe",
          "year": 2000
         },
         {
          "cluster": 1,
          "country": "Croatia",
          "fertility": 1.346,
          "life_expect": 75.748,
          "pop": 4495904,
          "region": "Europe",
          "year": 2005
         },
         {
          "cluster": 3,
          "country": "Cuba",
          "fertility": 3.6995,
          "life_expect": 62.325,
          "pop": 6381106,
          "region": "Americas",
          "year": 1955
         },
         {
          "cluster": 3,
          "country": "Cuba",
          "fertility": 4.6805,
          "life_expect": 65.246,
          "pop": 7027210,
          "region": "Americas",
          "year": 1960
         },
         {
          "cluster": 3,
          "country": "Cuba",
          "fertility": 4.3,
          "life_expect": 68.29,
          "pop": 7809916,
          "region": "Americas",
          "year": 1965
         },
         {
          "cluster": 3,
          "country": "Cuba",
          "fertility": 3.6,
          "life_expect": 70.723,
          "pop": 8542746,
          "region": "Americas",
          "year": 1970
         },
         {
          "cluster": 3,
          "country": "Cuba",
          "fertility": 2.15,
          "life_expect": 72.649,
          "pop": 9290074,
          "region": "Americas",
          "year": 1975
         },
         {
          "cluster": 3,
          "country": "Cuba",
          "fertility": 1.8495,
          "life_expect": 73.717,
          "pop": 9652975,
          "region": "Americas",
          "year": 1980
         },
         {
          "cluster": 3,
          "country": "Cuba",
          "fertility": 1.8495,
          "life_expect": 74.174,
          "pop": 10078658,
          "region": "Americas",
          "year": 1985
         },
         {
          "cluster": 3,
          "country": "Cuba",
          "fertility": 1.6505,
          "life_expect": 74.414,
          "pop": 10544793,
          "region": "Americas",
          "year": 1990
         },
         {
          "cluster": 3,
          "country": "Cuba",
          "fertility": 1.6095000000000002,
          "life_expect": 76.151,
          "pop": 10896802,
          "region": "Americas",
          "year": 1995
         },
         {
          "cluster": 3,
          "country": "Cuba",
          "fertility": 1.63,
          "life_expect": 77.158,
          "pop": 11134273,
          "region": "Americas",
          "year": 2000
         },
         {
          "cluster": 3,
          "country": "Cuba",
          "fertility": 1.49,
          "life_expect": 78.273,
          "pop": 11346670,
          "region": "Americas",
          "year": 2005
         },
         {
          "cluster": 3,
          "country": "Dominican Republic",
          "fertility": 7.6405,
          "life_expect": 49.828,
          "pop": 2737257,
          "region": "Americas",
          "year": 1955
         },
         {
          "cluster": 3,
          "country": "Dominican Republic",
          "fertility": 7.3505,
          "life_expect": 53.459,
          "pop": 3231488,
          "region": "Americas",
          "year": 1960
         },
         {
          "cluster": 3,
          "country": "Dominican Republic",
          "fertility": 6.6495,
          "life_expect": 56.751,
          "pop": 3805881,
          "region": "Americas",
          "year": 1965
         },
         {
          "cluster": 3,
          "country": "Dominican Republic",
          "fertility": 5.71,
          "life_expect": 59.631,
          "pop": 4422755,
          "region": "Americas",
          "year": 1970
         },
         {
          "cluster": 3,
          "country": "Dominican Republic",
          "fertility": 4.76,
          "life_expect": 61.788,
          "pop": 5048499,
          "region": "Americas",
          "year": 1975
         },
         {
          "cluster": 3,
          "country": "Dominican Republic",
          "fertility": 4,
          "life_expect": 63.727,
          "pop": 5696855,
          "region": "Americas",
          "year": 1980
         },
         {
          "cluster": 3,
          "country": "Dominican Republic",
          "fertility": 3.47,
          "life_expect": 66.046,
          "pop": 6377765,
          "region": "Americas",
          "year": 1985
         },
         {
          "cluster": 3,
          "country": "Dominican Republic",
          "fertility": 3.1995,
          "life_expect": 68.457,
          "pop": 7077651,
          "region": "Americas",
          "year": 1990
         },
         {
          "cluster": 3,
          "country": "Dominican Republic",
          "fertility": 3.05,
          "life_expect": 69.957,
          "pop": 7730224,
          "region": "Americas",
          "year": 1995
         },
         {
          "cluster": 3,
          "country": "Dominican Republic",
          "fertility": 2.95,
          "life_expect": 70.847,
          "pop": 8385828,
          "region": "Americas",
          "year": 2000
         },
         {
          "cluster": 3,
          "country": "Dominican Republic",
          "fertility": 2.81,
          "life_expect": 72.235,
          "pop": 9049595,
          "region": "Americas",
          "year": 2005
         },
         {
          "cluster": 3,
          "country": "Ecuador",
          "fertility": 6.7,
          "life_expect": 51.356,
          "pop": 3842399,
          "region": "Americas",
          "year": 1955
         },
         {
          "cluster": 3,
          "country": "Ecuador",
          "fertility": 6.7,
          "life_expect": 54.64,
          "pop": 4415956,
          "region": "Americas",
          "year": 1960
         },
         {
          "cluster": 3,
          "country": "Ecuador",
          "fertility": 6.5,
          "life_expect": 56.678,
          "pop": 5117779,
          "region": "Americas",
          "year": 1965
         },
         {
          "cluster": 3,
          "country": "Ecuador",
          "fertility": 6.0005,
          "life_expect": 58.796,
          "pop": 5939246,
          "region": "Americas",
          "year": 1970
         },
         {
          "cluster": 3,
          "country": "Ecuador",
          "fertility": 5.4005,
          "life_expect": 61.31,
          "pop": 6871698,
          "region": "Americas",
          "year": 1975
         },
         {
          "cluster": 3,
          "country": "Ecuador",
          "fertility": 4.7005,
          "life_expect": 64.342,
          "pop": 7920499,
          "region": "Americas",
          "year": 1980
         },
         {
          "cluster": 3,
          "country": "Ecuador",
          "fertility": 4,
          "life_expect": 67.231,
          "pop": 9061664,
          "region": "Americas",
          "year": 1985
         },
         {
          "cluster": 3,
          "country": "Ecuador",
          "fertility": 3.4005,
          "life_expect": 69.613,
          "pop": 10318036,
          "region": "Americas",
          "year": 1990
         },
         {
          "cluster": 3,
          "country": "Ecuador",
          "fertility": 3.1,
          "life_expect": 72.312,
          "pop": 11438004,
          "region": "Americas",
          "year": 1995
         },
         {
          "cluster": 3,
          "country": "Ecuador",
          "fertility": 2.8175,
          "life_expect": 74.173,
          "pop": 12505204,
          "region": "Americas",
          "year": 2000
         },
         {
          "cluster": 3,
          "country": "Ecuador",
          "fertility": 2.578,
          "life_expect": 74.994,
          "pop": 13363593,
          "region": "Americas",
          "year": 2005
         },
         {
          "cluster": 5,
          "country": "Egypt",
          "fertility": 6.97,
          "life_expect": 44.444,
          "pop": 23855527,
          "region": "Middle East",
          "year": 1955
         },
         {
          "cluster": 5,
          "country": "Egypt",
          "fertility": 7.073,
          "life_expect": 46.992,
          "pop": 26846610,
          "region": "Middle East",
          "year": 1960
         },
         {
          "cluster": 5,
          "country": "Egypt",
          "fertility": 6.5600000000000005,
          "life_expect": 49.293,
          "pop": 30265148,
          "region": "Middle East",
          "year": 1965
         },
         {
          "cluster": 5,
          "country": "Egypt",
          "fertility": 5.855,
          "life_expect": 51.137,
          "pop": 33574026,
          "region": "Middle East",
          "year": 1970
         },
         {
          "cluster": 5,
          "country": "Egypt",
          "fertility": 5.609,
          "life_expect": 53.319,
          "pop": 36952499,
          "region": "Middle East",
          "year": 1975
         },
         {
          "cluster": 5,
          "country": "Egypt",
          "fertility": 5.332,
          "life_expect": 56.006,
          "pop": 42634215,
          "region": "Middle East",
          "year": 1980
         },
         {
          "cluster": 5,
          "country": "Egypt",
          "fertility": 4.833,
          "life_expect": 59.797,
          "pop": 50052381,
          "region": "Middle East",
          "year": 1985
         },
         {
          "cluster": 5,
          "country": "Egypt",
          "fertility": 3.908,
          "life_expect": 63.674,
          "pop": 56694413,
          "region": "Middle East",
          "year": 1990
         },
         {
          "cluster": 5,
          "country": "Egypt",
          "fertility": 3.5,
          "life_expect": 67.217,
          "pop": 63321615,
          "region": "Middle East",
          "year": 1995
         },
         {
          "cluster": 5,
          "country": "Egypt",
          "fertility": 3.174,
          "life_expect": 69.806,
          "pop": 70492342,
          "region": "Middle East",
          "year": 2000
         },
         {
          "cluster": 5,
          "country": "Egypt",
          "fertility": 2.891,
          "life_expect": 71.338,
          "pop": 77505756,
          "region": "Middle East",
          "year": 2005
         },
         {
          "cluster": 3,
          "country": "El Salvador",
          "fertility": 6.8065,
          "life_expect": 48.57,
          "pop": 2221139,
          "region": "Americas",
          "year": 1955
         },
         {
          "cluster": 3,
          "country": "El Salvador",
          "fertility": 6.8469999999999995,
          "life_expect": 52.307,
          "pop": 2581583,
          "region": "Americas",
          "year": 1960
         },
         {
          "cluster": 3,
          "country": "El Salvador",
          "fertility": 6.621,
          "life_expect": 55.855,
          "pop": 3017852,
          "region": "Americas",
          "year": 1965
         },
         {
          "cluster": 3,
          "country": "El Salvador",
          "fertility": 6.0995,
          "life_expect": 58.207,
          "pop": 3603907,
          "region": "Americas",
          "year": 1970
         },
         {
          "cluster": 3,
          "country": "El Salvador",
          "fertility": 5.5996,
          "life_expect": 56.696,
          "pop": 4071179,
          "region": "Americas",
          "year": 1975
         },
         {
          "cluster": 3,
          "country": "El Salvador",
          "fertility": 4.5,
          "life_expect": 56.604,
          "pop": 4566199,
          "region": "Americas",
          "year": 1980
         },
         {
          "cluster": 3,
          "country": "El Salvador",
          "fertility": 3.901,
          "life_expect": 63.154,
          "pop": 4664361,
          "region": "Americas",
          "year": 1985
         },
         {
          "cluster": 3,
          "country": "El Salvador",
          "fertility": 3.52,
          "life_expect": 66.798,
          "pop": 5099884,
          "region": "Americas",
          "year": 1990
         },
         {
          "cluster": 3,
          "country": "El Salvador",
          "fertility": 3.17,
          "life_expect": 69.535,
          "pop": 5568437,
          "region": "Americas",
          "year": 1995
         },
         {
          "cluster": 3,
          "country": "El Salvador",
          "fertility": 2.883,
          "life_expect": 70.734,
          "pop": 6122515,
          "region": "Americas",
          "year": 2000
         },
         {
          "cluster": 3,
          "country": "El Salvador",
          "fertility": 2.6825,
          "life_expect": 71.878,
          "pop": 6704932,
          "region": "Americas",
          "year": 2005
         },
         {
          "cluster": 1,
          "country": "Finland",
          "fertility": 2.769,
          "life_expect": 67.49,
          "pop": 4234900,
          "region": "Europe",
          "year": 1955
         },
         {
          "cluster": 1,
          "country": "Finland",
          "fertility": 2.66,
          "life_expect": 68.75,
          "pop": 4429600,
          "region": "Europe",
          "year": 1960
         },
         {
          "cluster": 1,
          "country": "Finland",
          "fertility": 2.191,
          "life_expect": 69.83,
          "pop": 4563732,
          "region": "Europe",
          "year": 1965
         },
         {
          "cluster": 1,
          "country": "Finland",
          "fertility": 1.623,
          "life_expect": 70.87,
          "pop": 4606307,
          "region": "Europe",
          "year": 1970
         },
         {
          "cluster": 1,
          "country": "Finland",
          "fertility": 1.663,
          "life_expect": 72.52,
          "pop": 4711439,
          "region": "Europe",
          "year": 1975
         },
         {
          "cluster": 1,
          "country": "Finland",
          "fertility": 1.685,
          "life_expect": 74.55,
          "pop": 4779535,
          "region": "Europe",
          "year": 1980
         },
         {
          "cluster": 1,
          "country": "Finland",
          "fertility": 1.6600000000000001,
          "life_expect": 74.83,
          "pop": 4901783,
          "region": "Europe",
          "year": 1985
         },
         {
          "cluster": 1,
          "country": "Finland",
          "fertility": 1.819,
          "life_expect": 75.7,
          "pop": 4986431,
          "region": "Europe",
          "year": 1990
         },
         {
          "cluster": 1,
          "country": "Finland",
          "fertility": 1.7429999999999999,
          "life_expect": 77.13,
          "pop": 5104654,
          "region": "Europe",
          "year": 1995
         },
         {
          "cluster": 1,
          "country": "Finland",
          "fertility": 1.754,
          "life_expect": 78.37,
          "pop": 5168595,
          "region": "Europe",
          "year": 2000
         },
         {
          "cluster": 1,
          "country": "Finland",
          "fertility": 1.8250000000000002,
          "life_expect": 79.313,
          "pop": 5223442,
          "region": "Europe",
          "year": 2005
         },
         {
          "cluster": 1,
          "country": "France",
          "fertility": 2.7119999999999997,
          "life_expect": 68.93,
          "pop": 43427669,
          "region": "Europe",
          "year": 1955
         },
         {
          "cluster": 1,
          "country": "France",
          "fertility": 2.85,
          "life_expect": 70.51,
          "pop": 45670000,
          "region": "Europe",
          "year": 1960
         },
         {
          "cluster": 1,
          "country": "France",
          "fertility": 2.607,
          "life_expect": 71.55,
          "pop": 48763000,
          "region": "Europe",
          "year": 1965
         },
         {
          "cluster": 1,
          "country": "France",
          "fertility": 2.31,
          "life_expect": 72.38,
          "pop": 50787000,
          "region": "Europe",
          "year": 1970
         },
         {
          "cluster": 1,
          "country": "France",
          "fertility": 1.862,
          "life_expect": 73.83,
          "pop": 52758427,
          "region": "Europe",
          "year": 1975
         },
         {
          "cluster": 1,
          "country": "France",
          "fertility": 1.866,
          "life_expect": 74.89,
          "pop": 53869743,
          "region": "Europe",
          "year": 1980
         },
         {
          "cluster": 1,
          "country": "France",
          "fertility": 1.8050000000000002,
          "life_expect": 76.34,
          "pop": 55171224,
          "region": "Europe",
          "year": 1985
         },
         {
          "cluster": 1,
          "country": "France",
          "fertility": 1.713,
          "life_expect": 77.46,
          "pop": 56735161,
          "region": "Europe",
          "year": 1990
         },
         {
          "cluster": 1,
          "country": "France",
          "fertility": 1.7624,
          "life_expect": 78.64,
          "pop": 58149727,
          "region": "Europe",
          "year": 1995
         },
         {
          "cluster": 1,
          "country": "France",
          "fertility": 1.8833000000000002,
          "life_expect": 79.59,
          "pop": 59381628,
          "region": "Europe",
          "year": 2000
         },
         {
          "cluster": 1,
          "country": "France",
          "fertility": 1.8916,
          "life_expect": 80.657,
          "pop": 60656178,
          "region": "Europe",
          "year": 2005
         },
         {
          "cluster": 1,
          "country": "Georgia",
          "fertility": 2.909,
          "life_expect": 62.625,
          "pop": 3827154,
          "region": "Europe",
          "year": 1955
         },
         {
          "cluster": 1,
          "country": "Georgia",
          "fertility": 2.979,
          "life_expect": 64.644,
          "pop": 4146570,
          "region": "Europe",
          "year": 1960
         },
         {
          "cluster": 1,
          "country": "Georgia",
          "fertility": 2.6109999999999998,
          "life_expect": 66.654,
          "pop": 4464959,
          "region": "Europe",
          "year": 1965
         },
         {
          "cluster": 1,
          "country": "Georgia",
          "fertility": 2.601,
          "life_expect": 68.158,
          "pop": 4694491,
          "region": "Europe",
          "year": 1970
         },
         {
          "cluster": 1,
          "country": "Georgia",
          "fertility": 2.39,
          "life_expect": 69.634,
          "pop": 4897656,
          "region": "Europe",
          "year": 1975
         },
         {
          "cluster": 1,
          "country": "Georgia",
          "fertility": 2.269,
          "life_expect": 69.638,
          "pop": 5045697,
          "region": "Europe",
          "year": 1980
         },
         {
          "cluster": 1,
          "country": "Georgia",
          "fertility": 2.263,
          "life_expect": 70.45,
          "pop": 5192957,
          "region": "Europe",
          "year": 1985
         },
         {
          "cluster": 1,
          "country": "Georgia",
          "fertility": 1.9500000000000002,
          "life_expect": 70.465,
          "pop": 5426207,
          "region": "Europe",
          "year": 1990
         },
         {
          "cluster": 1,
          "country": "Georgia",
          "fertility": 1.58,
          "life_expect": 70.49,
          "pop": 5012952,
          "region": "Europe",
          "year": 1995
         },
         {
          "cluster": 1,
          "country": "Georgia",
          "fertility": 1.478,
          "life_expect": 70.476,
          "pop": 4777209,
          "region": "Europe",
          "year": 2000
         },
         {
          "cluster": 1,
          "country": "Georgia",
          "fertility": 1.407,
          "life_expect": 70.987,
          "pop": 4677401,
          "region": "Europe",
          "year": 2005
         },
         {
          "cluster": 1,
          "country": "Germany",
          "fertility": 2.3,
          "life_expect": 69.1,
          "pop": 70195612,
          "region": "Europe",
          "year": 1955
         },
         {
          "cluster": 1,
          "country": "Germany",
          "fertility": 2.49,
          "life_expect": 70.3,
          "pop": 72480869,
          "region": "Europe",
          "year": 1960
         },
         {
          "cluster": 1,
          "country": "Germany",
          "fertility": 2.32,
          "life_expect": 70.8,
          "pop": 75638851,
          "region": "Europe",
          "year": 1965
         },
         {
          "cluster": 1,
          "country": "Germany",
          "fertility": 1.6400000000000001,
          "life_expect": 71,
          "pop": 77783164,
          "region": "Europe",
          "year": 1970
         },
         {
          "cluster": 1,
          "country": "Germany",
          "fertility": 1.52,
          "life_expect": 72.5,
          "pop": 78682325,
          "region": "Europe",
          "year": 1975
         },
         {
          "cluster": 1,
          "country": "Germany",
          "fertility": 1.46,
          "life_expect": 73.8,
          "pop": 78297904,
          "region": "Europe",
          "year": 1980
         },
         {
          "cluster": 1,
          "country": "Germany",
          "fertility": 1.43,
          "life_expect": 74.847,
          "pop": 77684907,
          "region": "Europe",
          "year": 1985
         },
         {
          "cluster": 1,
          "country": "Germany",
          "fertility": 1.31,
          "life_expect": 76.07,
          "pop": 79380394,
          "region": "Europe",
          "year": 1990
         },
         {
          "cluster": 1,
          "country": "Germany",
          "fertility": 1.34,
          "life_expect": 77.34,
          "pop": 81653702,
          "region": "Europe",
          "year": 1995
         },
         {
          "cluster": 1,
          "country": "Germany",
          "fertility": 1.346,
          "life_expect": 78.67,
          "pop": 82187909,
          "region": "Europe",
          "year": 2000
         },
         {
          "cluster": 1,
          "country": "Germany",
          "fertility": 1.3599999999999999,
          "life_expect": 79.406,
          "pop": 82431390,
          "region": "Europe",
          "year": 2005
         },
         {
          "cluster": 1,
          "country": "Greece",
          "fertility": 2.27,
          "life_expect": 67.86,
          "pop": 7965538,
          "region": "Europe",
          "year": 1955
         },
         {
          "cluster": 1,
          "country": "Greece",
          "fertility": 2.2,
          "life_expect": 69.51,
          "pop": 8327405,
          "region": "Europe",
          "year": 1960
         },
         {
          "cluster": 1,
          "country": "Greece",
          "fertility": 2.38,
          "life_expect": 71,
          "pop": 8550333,
          "region": "Europe",
          "year": 1965
         },
         {
          "cluster": 1,
          "country": "Greece",
          "fertility": 2.32,
          "life_expect": 72.34,
          "pop": 8792806,
          "region": "Europe",
          "year": 1970
         },
         {
          "cluster": 1,
          "country": "Greece",
          "fertility": 2.32,
          "life_expect": 73.68,
          "pop": 9046542,
          "region": "Europe",
          "year": 1975
         },
         {
          "cluster": 1,
          "country": "Greece",
          "fertility": 1.96,
          "life_expect": 75.24,
          "pop": 9642505,
          "region": "Europe",
          "year": 1980
         },
         {
          "cluster": 1,
          "country": "Greece",
          "fertility": 1.53,
          "life_expect": 76.67,
          "pop": 9923253,
          "region": "Europe",
          "year": 1985
         },
         {
          "cluster": 1,
          "country": "Greece",
          "fertility": 1.37,
          "life_expect": 77.03,
          "pop": 10129603,
          "region": "Europe",
          "year": 1990
         },
         {
          "cluster": 1,
          "country": "Greece",
          "fertility": 1.296,
          "life_expect": 77.869,
          "pop": 10457554,
          "region": "Europe",
          "year": 1995
         },
         {
          "cluster": 1,
          "country": "Greece",
          "fertility": 1.2770000000000001,
          "life_expect": 78.256,
          "pop": 10559110,
          "region": "Europe",
          "year": 2000
         },
         {
          "cluster": 1,
          "country": "Greece",
          "fertility": 1.325,
          "life_expect": 79.483,
          "pop": 10668354,
          "region": "Europe",
          "year": 2005
         },
         {
          "cluster": 3,
          "country": "Grenada",
          "fertility": 6.7,
          "life_expect": 63.114,
          "pop": 84621,
          "region": "Americas",
          "year": 1955
         },
         {
          "cluster": 3,
          "country": "Grenada",
          "fertility": 6.4,
          "life_expect": 63.608,
          "pop": 90148,
          "region": "Americas",
          "year": 1960
         },
         {
          "cluster": 3,
          "country": "Grenada",
          "fertility": 4.8,
          "life_expect": 64.091,
          "pop": 93290,
          "region": "Americas",
          "year": 1965
         },
         {
          "cluster": 3,
          "country": "Grenada",
          "fertility": 4.6,
          "life_expect": 64.577,
          "pop": 95410,
          "region": "Americas",
          "year": 1970
         },
         {
          "cluster": 3,
          "country": "Grenada",
          "fertility": 4.3,
          "life_expect": 65.035,
          "pop": 95819,
          "region": "Americas",
          "year": 1975
         },
         {
          "cluster": 3,
          "country": "Grenada",
          "fertility": 4.23,
          "life_expect": 65.503,
          "pop": 90164,
          "region": "Americas",
          "year": 1980
         },
         {
          "cluster": 3,
          "country": "Grenada",
          "fertility": 4.14,
          "life_expect": 66.002,
          "pop": 92203,
          "region": "Americas",
          "year": 1985
         },
         {
          "cluster": 3,
          "country": "Grenada",
          "fertility": 3.26,
          "life_expect": 66.469,
          "pop": 92360,
          "region": "Americas",
          "year": 1990
         },
         {
          "cluster": 3,
          "country": "Grenada",
          "fertility": 2.814,
          "life_expect": 66.986,
          "pop": 90603,
          "region": "Americas",
          "year": 1995
         },
         {
          "cluster": 3,
          "country": "Grenada",
          "fertility": 2.429,
          "life_expect": 67.746,
          "pop": 89312,
          "region": "Americas",
          "year": 2000
         },
         {
          "cluster": 3,
          "country": "Grenada",
          "fertility": 2.302,
          "life_expect": 68.724,
          "pop": 89502,
          "region": "Americas",
          "year": 2005
         },
         {
          "cluster": 3,
          "country": "Haiti",
          "fertility": 6.3,
          "life_expect": 40.696,
          "pop": 3376419,
          "region": "Americas",
          "year": 1955
         },
         {
          "cluster": 3,
          "country": "Haiti",
          "fertility": 6.3,
          "life_expect": 43.59,
          "pop": 3722743,
          "region": "Americas",
          "year": 1960
         },
         {
          "cluster": 3,
          "country": "Haiti",
          "fertility": 6,
          "life_expect": 46.243,
          "pop": 4137405,
          "region": "Americas",
          "year": 1965
         },
         {
          "cluster": 3,
          "country": "Haiti",
          "fertility": 5.6005,
          "life_expect": 48.042,
          "pop": 4604915,
          "region": "Americas",
          "year": 1970
         },
         {
          "cluster": 3,
          "country": "Haiti",
          "fertility": 5.8,
          "life_expect": 49.923,
          "pop": 4828338,
          "region": "Americas",
          "year": 1975
         },
         {
          "cluster": 3,
          "country": "Haiti",
          "fertility": 6.2099,
          "life_expect": 51.461,
          "pop": 5029725,
          "region": "Americas",
          "year": 1980
         },
         {
          "cluster": 3,
          "country": "Haiti",
          "fertility": 5.69985,
          "life_expect": 53.636,
          "pop": 5517977,
          "region": "Americas",
          "year": 1985
         },
         {
          "cluster": 3,
          "country": "Haiti",
          "fertility": 5.14985,
          "life_expect": 55.089,
          "pop": 6126101,
          "region": "Americas",
          "year": 1990
         },
         {
          "cluster": 3,
          "country": "Haiti",
          "fertility": 4.61995,
          "life_expect": 56.671,
          "pop": 6675578,
          "region": "Americas",
          "year": 1995
         },
         {
          "cluster": 3,
          "country": "Haiti",
          "fertility": 4,
          "life_expect": 58.137,
          "pop": 7306302,
          "region": "Americas",
          "year": 2000
         },
         {
          "cluster": 3,
          "country": "Haiti",
          "fertility": 3.5445,
          "life_expect": 60.916,
          "pop": 8121622,
          "region": "Americas",
          "year": 2005
         },
         {
          "cluster": 4,
          "country": "Hong Kong",
          "fertility": 4.72,
          "life_expect": 64.75,
          "pop": 2490400,
          "region": "Asia/Pacific",
          "year": 1955
         },
         {
          "cluster": 4,
          "country": "Hong Kong",
          "fertility": 5.31,
          "life_expect": 67.65,
          "pop": 3075300,
          "region": "Asia/Pacific",
          "year": 1960
         },
         {
          "cluster": 4,
          "country": "Hong Kong",
          "fertility": 4.02,
          "life_expect": 70,
          "pop": 3597900,
          "region": "Asia/Pacific",
          "year": 1965
         },
         {
          "cluster": 4,
          "country": "Hong Kong",
          "fertility": 2.89,
          "life_expect": 72,
          "pop": 3959000,
          "region": "Asia/Pacific",
          "year": 1970
         },
         {
          "cluster": 4,
          "country": "Hong Kong",
          "fertility": 2.32,
          "life_expect": 73.6,
          "pop": 4395800,
          "region": "Asia/Pacific",
          "year": 1975
         },
         {
          "cluster": 4,
          "country": "Hong Kong",
          "fertility": 1.8,
          "life_expect": 75.45,
          "pop": 5063100,
          "region": "Asia/Pacific",
          "year": 1980
         },
         {
          "cluster": 4,
          "country": "Hong Kong",
          "fertility": 1.31,
          "life_expect": 76.2,
          "pop": 5456200,
          "region": "Asia/Pacific",
          "year": 1985
         },
         {
          "cluster": 4,
          "country": "Hong Kong",
          "fertility": 1.288,
          "life_expect": 77.601,
          "pop": 5687959,
          "region": "Asia/Pacific",
          "year": 1990
         },
         {
          "cluster": 4,
          "country": "Hong Kong",
          "fertility": 1.08,
          "life_expect": 80,
          "pop": 6225347,
          "region": "Asia/Pacific",
          "year": 1995
         },
         {
          "cluster": 4,
          "country": "Hong Kong",
          "fertility": 0.9400000000000001,
          "life_expect": 81.495,
          "pop": 6658720,
          "region": "Asia/Pacific",
          "year": 2000
         },
         {
          "cluster": 4,
          "country": "Hong Kong",
          "fertility": 0.966,
          "life_expect": 82.208,
          "pop": 6898686,
          "region": "Asia/Pacific",
          "year": 2005
         },
         {
          "cluster": 1,
          "country": "Iceland",
          "fertility": 4.023,
          "life_expect": 73.47,
          "pop": 158044,
          "region": "Europe",
          "year": 1955
         },
         {
          "cluster": 1,
          "country": "Iceland",
          "fertility": 3.943,
          "life_expect": 73.68,
          "pop": 175860,
          "region": "Europe",
          "year": 1960
         },
         {
          "cluster": 1,
          "country": "Iceland",
          "fertility": 3.154,
          "life_expect": 73.73,
          "pop": 192288,
          "region": "Europe",
          "year": 1965
         },
         {
          "cluster": 1,
          "country": "Iceland",
          "fertility": 2.843,
          "life_expect": 74.46,
          "pop": 204104,
          "region": "Europe",
          "year": 1970
         },
         {
          "cluster": 1,
          "country": "Iceland",
          "fertility": 2.287,
          "life_expect": 76.11,
          "pop": 218031,
          "region": "Europe",
          "year": 1975
         },
         {
          "cluster": 1,
          "country": "Iceland",
          "fertility": 2.248,
          "life_expect": 76.99,
          "pop": 228161,
          "region": "Europe",
          "year": 1980
         },
         {
          "cluster": 1,
          "country": "Iceland",
          "fertility": 2.116,
          "life_expect": 77.23,
          "pop": 241403,
          "region": "Europe",
          "year": 1985
         },
         {
          "cluster": 1,
          "country": "Iceland",
          "fertility": 2.194,
          "life_expect": 78.77,
          "pop": 254719,
          "region": "Europe",
          "year": 1990
         },
         {
          "cluster": 1,
          "country": "Iceland",
          "fertility": 2.056,
          "life_expect": 78.95,
          "pop": 267527,
          "region": "Europe",
          "year": 1995
         },
         {
          "cluster": 1,
          "country": "Iceland",
          "fertility": 1.9929999999999999,
          "life_expect": 80.5,
          "pop": 281043,
          "region": "Europe",
          "year": 2000
         },
         {
          "cluster": 1,
          "country": "Iceland",
          "fertility": 2.052,
          "life_expect": 81.757,
          "pop": 296737,
          "region": "Europe",
          "year": 2005
         },
         {
          "cluster": 0,
          "country": "India",
          "fertility": 5.8961,
          "life_expect": 40.249,
          "pop": 393000000,
          "region": "Indian Subcontinent",
          "year": 1955
         },
         {
          "cluster": 0,
          "country": "India",
          "fertility": 5.8216,
          "life_expect": 43.605,
          "pop": 434000000,
          "region": "Indian Subcontinent",
          "year": 1960
         },
         {
          "cluster": 0,
          "country": "India",
          "fertility": 5.6058,
          "life_expect": 47.193,
          "pop": 485000000,
          "region": "Indian Subcontinent",
          "year": 1965
         },
         {
          "cluster": 0,
          "country": "India",
          "fertility": 5.264,
          "life_expect": 50.651,
          "pop": 541000000,
          "region": "Indian Subcontinent",
          "year": 1970
         },
         {
          "cluster": 0,
          "country": "India",
          "fertility": 4.8888,
          "life_expect": 54.208,
          "pop": 607000000,
          "region": "Indian Subcontinent",
          "year": 1975
         },
         {
          "cluster": 0,
          "country": "India",
          "fertility": 4.4975,
          "life_expect": 56.596,
          "pop": 679000000,
          "region": "Indian Subcontinent",
          "year": 1980
         },
         {
          "cluster": 0,
          "country": "India",
          "fertility": 4.15,
          "life_expect": 58.553,
          "pop": 755000000,
          "region": "Indian Subcontinent",
          "year": 1985
         },
         {
          "cluster": 0,
          "country": "India",
          "fertility": 3.8648,
          "life_expect": 60.223,
          "pop": 839000000,
          "region": "Indian Subcontinent",
          "year": 1990
         },
         {
          "cluster": 0,
          "country": "India",
          "fertility": 3.4551,
          "life_expect": 61.765,
          "pop": 927000000,
          "region": "Indian Subcontinent",
          "year": 1995
         },
         {
          "cluster": 0,
          "country": "India",
          "fertility": 3.1132,
          "life_expect": 62.879,
          "pop": 1007702000,
          "region": "Indian Subcontinent",
          "year": 2000
         },
         {
          "cluster": 0,
          "country": "India",
          "fertility": 2.8073,
          "life_expect": 64.698,
          "pop": 1080264388,
          "region": "Indian Subcontinent",
          "year": 2005
         },
         {
          "cluster": 4,
          "country": "Indonesia",
          "fertility": 5.672,
          "life_expect": 39.918,
          "pop": 86807000,
          "region": "Asia/Pacific",
          "year": 1955
         },
         {
          "cluster": 4,
          "country": "Indonesia",
          "fertility": 5.62,
          "life_expect": 42.518,
          "pop": 95254000,
          "region": "Asia/Pacific",
          "year": 1960
         },
         {
          "cluster": 4,
          "country": "Indonesia",
          "fertility": 5.568,
          "life_expect": 45.964,
          "pop": 105093000,
          "region": "Asia/Pacific",
          "year": 1965
         },
         {
          "cluster": 4,
          "country": "Indonesia",
          "fertility": 5.3,
          "life_expect": 49.203,
          "pop": 116044000,
          "region": "Asia/Pacific",
          "year": 1970
         },
         {
          "cluster": 4,
          "country": "Indonesia",
          "fertility": 4.73,
          "life_expect": 52.702,
          "pop": 130297000,
          "region": "Asia/Pacific",
          "year": 1975
         },
         {
          "cluster": 4,
          "country": "Indonesia",
          "fertility": 4.109,
          "life_expect": 56.159,
          "pop": 146995000,
          "region": "Asia/Pacific",
          "year": 1980
         },
         {
          "cluster": 4,
          "country": "Indonesia",
          "fertility": 3.4,
          "life_expect": 60.137,
          "pop": 163403000,
          "region": "Asia/Pacific",
          "year": 1985
         },
         {
          "cluster": 4,
          "country": "Indonesia",
          "fertility": 2.9,
          "life_expect": 62.681,
          "pop": 178500000,
          "region": "Asia/Pacific",
          "year": 1990
         },
         {
          "cluster": 4,
          "country": "Indonesia",
          "fertility": 2.55,
          "life_expect": 66.041,
          "pop": 194755000,
          "region": "Asia/Pacific",
          "year": 1995
         },
         {
          "cluster": 4,
          "country": "Indonesia",
          "fertility": 2.3761,
          "life_expect": 68.588,
          "pop": 206265000,
          "region": "Asia/Pacific",
          "year": 2000
         },
         {
          "cluster": 4,
          "country": "Indonesia",
          "fertility": 2.182,
          "life_expect": 70.65,
          "pop": 218465000,
          "region": "Asia/Pacific",
          "year": 2005
         },
         {
          "cluster": 5,
          "country": "Iran",
          "fertility": 7,
          "life_expect": 47.181,
          "pop": 18729000,
          "region": "Middle East",
          "year": 1955
         },
         {
          "cluster": 5,
          "country": "Iran",
          "fertility": 7,
          "life_expect": 49.325,
          "pop": 21577000,
          "region": "Middle East",
          "year": 1960
         },
         {
          "cluster": 5,
          "country": "Iran",
          "fertility": 6.8,
          "life_expect": 52.469,
          "pop": 25000000,
          "region": "Middle East",
          "year": 1965
         },
         {
          "cluster": 5,
          "country": "Iran",
          "fertility": 6.4,
          "life_expect": 55.234,
          "pop": 28933000,
          "region": "Middle East",
          "year": 1970
         },
         {
          "cluster": 5,
          "country": "Iran",
          "fertility": 6.5,
          "life_expect": 57.702,
          "pop": 33379000,
          "region": "Middle East",
          "year": 1975
         },
         {
          "cluster": 5,
          "country": "Iran",
          "fertility": 6.63,
          "life_expect": 59.62,
          "pop": 39583397,
          "region": "Middle East",
          "year": 1980
         },
         {
          "cluster": 5,
          "country": "Iran",
          "fertility": 5.62,
          "life_expect": 63.04,
          "pop": 48439952,
          "region": "Middle East",
          "year": 1985
         },
         {
          "cluster": 5,
          "country": "Iran",
          "fertility": 4.328,
          "life_expect": 65.742,
          "pop": 57035717,
          "region": "Middle East",
          "year": 1990
         },
         {
          "cluster": 5,
          "country": "Iran",
          "fertility": 2.534,
          "life_expect": 68.042,
          "pop": 61628116,
          "region": "Middle East",
          "year": 1995
         },
         {
          "cluster": 5,
          "country": "Iran",
          "fertility": 2.124,
          "life_expect": 69.451,
          "pop": 65660289,
          "region": "Middle East",
          "year": 2000
         },
         {
          "cluster": 5,
          "country": "Iran",
          "fertility": 2.04,
          "life_expect": 70.964,
          "pop": 68017860,
          "region": "Middle East",
          "year": 2005
         },
         {
          "cluster": 5,
          "country": "Iraq",
          "fertility": 7.3,
          "life_expect": 48.437,
          "pop": 5903253,
          "region": "Middle East",
          "year": 1955
         },
         {
          "cluster": 5,
          "country": "Iraq",
          "fertility": 7.25,
          "life_expect": 51.457,
          "pop": 6822030,
          "region": "Middle East",
          "year": 1960
         },
         {
          "cluster": 5,
          "country": "Iraq",
          "fertility": 7.2,
          "life_expect": 54.459,
          "pop": 7970746,
          "region": "Middle East",
          "year": 1965
         },
         {
          "cluster": 5,
          "country": "Iraq",
          "fertility": 7.15,
          "life_expect": 56.95,
          "pop": 9413671,
          "region": "Middle East",
          "year": 1970
         },
         {
          "cluster": 5,
          "country": "Iraq",
          "fertility": 6.8,
          "life_expect": 60.413,
          "pop": 11117804,
          "region": "Middle East",
          "year": 1975
         },
         {
          "cluster": 5,
          "country": "Iraq",
          "fertility": 6.35,
          "life_expect": 62.038,
          "pop": 13232839,
          "region": "Middle East",
          "year": 1980
         },
         {
          "cluster": 5,
          "country": "Iraq",
          "fertility": 6.15,
          "life_expect": 65.044,
          "pop": 15693620,
          "region": "Middle East",
          "year": 1985
         },
         {
          "cluster": 5,
          "country": "Iraq",
          "fertility": 5.7,
          "life_expect": 59.461,
          "pop": 18134702,
          "region": "Middle East",
          "year": 1990
         },
         {
          "cluster": 5,
          "country": "Iraq",
          "fertility": 5.37,
          "life_expect": 58.811,
          "pop": 19557247,
          "region": "Middle East",
          "year": 1995
         },
         {
          "cluster": 5,
          "country": "Iraq",
          "fertility": 4.858,
          "life_expect": 57.046,
          "pop": 22675617,
          "region": "Middle East",
          "year": 2000
         },
         {
          "cluster": 5,
          "country": "Iraq",
          "fertility": 4.264,
          "life_expect": 59.545,
          "pop": 26074906,
          "region": "Middle East",
          "year": 2005
         },
         {
          "cluster": 1,
          "country": "Ireland",
          "fertility": 3.68,
          "life_expect": 68.9,
          "pop": 2916133,
          "region": "Europe",
          "year": 1955
         },
         {
          "cluster": 1,
          "country": "Ireland",
          "fertility": 3.979,
          "life_expect": 70.29,
          "pop": 2832000,
          "region": "Europe",
          "year": 1960
         },
         {
          "cluster": 1,
          "country": "Ireland",
          "fertility": 3.873,
          "life_expect": 71.08,
          "pop": 2876000,
          "region": "Europe",
          "year": 1965
         },
         {
          "cluster": 1,
          "country": "Ireland",
          "fertility": 3.815,
          "life_expect": 71.28,
          "pop": 2950100,
          "region": "Europe",
          "year": 1970
         },
         {
          "cluster": 1,
          "country": "Ireland",
          "fertility": 3.478,
          "life_expect": 72.03,
          "pop": 3177300,
          "region": "Europe",
          "year": 1975
         },
         {
          "cluster": 1,
          "country": "Ireland",
          "fertility": 2.877,
          "life_expect": 73.1,
          "pop": 3401000,
          "region": "Europe",
          "year": 1980
         },
         {
          "cluster": 1,
          "country": "Ireland",
          "fertility": 2.287,
          "life_expect": 74.36,
          "pop": 3540000,
          "region": "Europe",
          "year": 1985
         },
         {
          "cluster": 1,
          "country": "Ireland",
          "fertility": 1.9689999999999999,
          "life_expect": 75.467,
          "pop": 3508200,
          "region": "Europe",
          "year": 1990
         },
         {
          "cluster": 1,
          "country": "Ireland",
          "fertility": 1.9,
          "life_expect": 76.122,
          "pop": 3613890,
          "region": "Europe",
          "year": 1995
         },
         {
          "cluster": 1,
          "country": "Ireland",
          "fertility": 1.9689999999999999,
          "life_expect": 77.783,
          "pop": 3791690,
          "region": "Europe",
          "year": 2000
         },
         {
          "cluster": 1,
          "country": "Ireland",
          "fertility": 1.964,
          "life_expect": 78.885,
          "pop": 4015676,
          "region": "Europe",
          "year": 2005
         },
         {
          "cluster": 5,
          "country": "Israel",
          "fertility": 3.893,
          "life_expect": 67.84,
          "pop": 1772032,
          "region": "Middle East",
          "year": 1955
         },
         {
          "cluster": 5,
          "country": "Israel",
          "fertility": 3.852,
          "life_expect": 69.39,
          "pop": 2141495,
          "region": "Middle East",
          "year": 1960
         },
         {
          "cluster": 5,
          "country": "Israel",
          "fertility": 3.79,
          "life_expect": 70.75,
          "pop": 2578184,
          "region": "Middle East",
          "year": 1965
         },
         {
          "cluster": 5,
          "country": "Israel",
          "fertility": 3.77,
          "life_expect": 71.63,
          "pop": 2903434,
          "region": "Middle East",
          "year": 1970
         },
         {
          "cluster": 5,
          "country": "Israel",
          "fertility": 3.409,
          "life_expect": 73.06,
          "pop": 3354242,
          "region": "Middle East",
          "year": 1975
         },
         {
          "cluster": 5,
          "country": "Israel",
          "fertility": 3.125,
          "life_expect": 74.45,
          "pop": 3737473,
          "region": "Middle East",
          "year": 1980
         },
         {
          "cluster": 5,
          "country": "Israel",
          "fertility": 3.051,
          "life_expect": 75.6,
          "pop": 4074965,
          "region": "Middle East",
          "year": 1985
         },
         {
          "cluster": 5,
          "country": "Israel",
          "fertility": 2.933,
          "life_expect": 76.93,
          "pop": 4512068,
          "region": "Middle East",
          "year": 1990
         },
         {
          "cluster": 5,
          "country": "Israel",
          "fertility": 2.942,
          "life_expect": 78.269,
          "pop": 5305120,
          "region": "Middle East",
          "year": 1995
         },
         {
          "cluster": 5,
          "country": "Israel",
          "fertility": 2.906,
          "life_expect": 79.696,
          "pop": 5842454,
          "region": "Middle East",
          "year": 2000
         },
         {
          "cluster": 5,
          "country": "Israel",
          "fertility": 2.75,
          "life_expect": 80.745,
          "pop": 6276883,
          "region": "Middle East",
          "year": 2005
         },
         {
          "cluster": 1,
          "country": "Italy",
          "fertility": 2.35,
          "life_expect": 67.81,
          "pop": 48633000,
          "region": "Europe",
          "year": 1955
         },
         {
          "cluster": 1,
          "country": "Italy",
          "fertility": 2.498,
          "life_expect": 69.24,
          "pop": 50197600,
          "region": "Europe",
          "year": 1960
         },
         {
          "cluster": 1,
          "country": "Italy",
          "fertility": 2.493,
          "life_expect": 71.06,
          "pop": 51987100,
          "region": "Europe",
          "year": 1965
         },
         {
          "cluster": 1,
          "country": "Italy",
          "fertility": 2.325,
          "life_expect": 72.19,
          "pop": 53661100,
          "region": "Europe",
          "year": 1970
         },
         {
          "cluster": 1,
          "country": "Italy",
          "fertility": 1.889,
          "life_expect": 73.48,
          "pop": 55571894,
          "region": "Europe",
          "year": 1975
         },
         {
          "cluster": 1,
          "country": "Italy",
          "fertility": 1.53,
          "life_expect": 74.98,
          "pop": 56451247,
          "region": "Europe",
          "year": 1980
         },
         {
          "cluster": 1,
          "country": "Italy",
          "fertility": 1.349,
          "life_expect": 76.42,
          "pop": 56731215,
          "region": "Europe",
          "year": 1985
         },
         {
          "cluster": 1,
          "country": "Italy",
          "fertility": 1.275,
          "life_expect": 77.44,
          "pop": 56742886,
          "region": "Europe",
          "year": 1990
         },
         {
          "cluster": 1,
          "country": "Italy",
          "fertility": 1.213,
          "life_expect": 78.82,
          "pop": 57274531,
          "region": "Europe",
          "year": 1995
         },
         {
          "cluster": 1,
          "country": "Italy",
          "fertility": 1.286,
          "life_expect": 80.24,
          "pop": 57719337,
          "region": "Europe",
          "year": 2000
         },
         {
          "cluster": 1,
          "country": "Italy",
          "fertility": 1.379,
          "life_expect": 80.546,
          "pop": 58103033,
          "region": "Europe",
          "year": 2005
         },
         {
          "cluster": 3,
          "country": "Jamaica",
          "fertility": 5.08,
          "life_expect": 62.61,
          "pop": 1488805,
          "region": "Americas",
          "year": 1955
         },
         {
          "cluster": 3,
          "country": "Jamaica",
          "fertility": 5.64,
          "life_expect": 65.61,
          "pop": 1631784,
          "region": "Americas",
          "year": 1960
         },
         {
          "cluster": 3,
          "country": "Jamaica",
          "fertility": 5.78,
          "life_expect": 67.51,
          "pop": 1777397,
          "region": "Americas",
          "year": 1965
         },
         {
          "cluster": 3,
          "country": "Jamaica",
          "fertility": 5,
          "life_expect": 69,
          "pop": 1943787,
          "region": "Americas",
          "year": 1970
         },
         {
          "cluster": 3,
          "country": "Jamaica",
          "fertility": 4,
          "life_expect": 70.11,
          "pop": 2104879,
          "region": "Americas",
          "year": 1975
         },
         {
          "cluster": 3,
          "country": "Jamaica",
          "fertility": 3.55,
          "life_expect": 71.21,
          "pop": 2228803,
          "region": "Americas",
          "year": 1980
         },
         {
          "cluster": 3,
          "country": "Jamaica",
          "fertility": 3.1,
          "life_expect": 71.77,
          "pop": 2318652,
          "region": "Americas",
          "year": 1985
         },
         {
          "cluster": 3,
          "country": "Jamaica",
          "fertility": 2.84,
          "life_expect": 71.766,
          "pop": 2347922,
          "region": "Americas",
          "year": 1990
         },
         {
          "cluster": 3,
          "country": "Jamaica",
          "fertility": 2.67,
          "life_expect": 72.262,
          "pop": 2469389,
          "region": "Americas",
          "year": 1995
         },
         {
          "cluster": 3,
          "country": "Jamaica",
          "fertility": 2.628,
          "life_expect": 72.047,
          "pop": 2615467,
          "region": "Americas",
          "year": 2000
         },
         {
          "cluster": 3,
          "country": "Jamaica",
          "fertility": 2.4289,
          "life_expect": 72.567,
          "pop": 2735520,
          "region": "Americas",
          "year": 2005
         },
         {
          "cluster": 4,
          "country": "Japan",
          "fertility": 2.08,
          "life_expect": 65.5,
          "pop": 89815060,
          "region": "Asia/Pacific",
          "year": 1955
         },
         {
          "cluster": 4,
          "country": "Japan",
          "fertility": 2.02,
          "life_expect": 68.73,
          "pop": 94091638,
          "region": "Asia/Pacific",
          "year": 1960
         },
         {
          "cluster": 4,
          "country": "Japan",
          "fertility": 2,
          "life_expect": 71.43,
          "pop": 98882534,
          "region": "Asia/Pacific",
          "year": 1965
         },
         {
          "cluster": 4,
          "country": "Japan",
          "fertility": 2.07,
          "life_expect": 73.42,
          "pop": 104344973,
          "region": "Asia/Pacific",
          "year": 1970
         },
         {
          "cluster": 4,
          "country": "Japan",
          "fertility": 1.81,
          "life_expect": 75.38,
          "pop": 111573116,
          "region": "Asia/Pacific",
          "year": 1975
         },
         {
          "cluster": 4,
          "country": "Japan",
          "fertility": 1.76,
          "life_expect": 77.11,
          "pop": 116807309,
          "region": "Asia/Pacific",
          "year": 1980
         },
         {
          "cluster": 4,
          "country": "Japan",
          "fertility": 1.6600000000000001,
          "life_expect": 78.67,
          "pop": 120754335,
          "region": "Asia/Pacific",
          "year": 1985
         },
         {
          "cluster": 4,
          "country": "Japan",
          "fertility": 1.49,
          "life_expect": 79.36,
          "pop": 123537399,
          "region": "Asia/Pacific",
          "year": 1990
         },
         {
          "cluster": 4,
          "country": "Japan",
          "fertility": 1.3900000000000001,
          "life_expect": 80.69,
          "pop": 125341354,
          "region": "Asia/Pacific",
          "year": 1995
         },
         {
          "cluster": 4,
          "country": "Japan",
          "fertility": 1.291,
          "life_expect": 82,
          "pop": 126699784,
          "region": "Asia/Pacific",
          "year": 2000
         },
         {
          "cluster": 4,
          "country": "Japan",
          "fertility": 1.27,
          "life_expect": 82.603,
          "pop": 127417244,
          "region": "Asia/Pacific",
          "year": 2005
         },
         {
          "cluster": 2,
          "country": "Kenya",
          "fertility": 7.816,
          "life_expect": 44.686,
          "pop": 7033999,
          "region": "Africa",
          "year": 1955
         },
         {
          "cluster": 2,
          "country": "Kenya",
          "fertility": 8.12,
          "life_expect": 47.949,
          "pop": 8156827,
          "region": "Africa",
          "year": 1960
         },
         {
          "cluster": 2,
          "country": "Kenya",
          "fertility": 8.12,
          "life_expect": 50.654,
          "pop": 9549179,
          "region": "Africa",
          "year": 1965
         },
         {
          "cluster": 2,
          "country": "Kenya",
          "fertility": 8,
          "life_expect": 53.559,
          "pop": 11247182,
          "region": "Africa",
          "year": 1970
         },
         {
          "cluster": 2,
          "country": "Kenya",
          "fertility": 7.6,
          "life_expect": 56.155,
          "pop": 13433414,
          "region": "Africa",
          "year": 1975
         },
         {
          "cluster": 2,
          "country": "Kenya",
          "fertility": 7.2,
          "life_expect": 58.766,
          "pop": 16331401,
          "region": "Africa",
          "year": 1980
         },
         {
          "cluster": 2,
          "country": "Kenya",
          "fertility": 6.5,
          "life_expect": 59.339,
          "pop": 19763285,
          "region": "Africa",
          "year": 1985
         },
         {
          "cluster": 2,
          "country": "Kenya",
          "fertility": 5.4,
          "life_expect": 59.285,
          "pop": 23358413,
          "region": "Africa",
          "year": 1990
         },
         {
          "cluster": 2,
          "country": "Kenya",
          "fertility": 5,
          "life_expect": 54.407,
          "pop": 27060142,
          "region": "Africa",
          "year": 1995
         },
         {
          "cluster": 2,
          "country": "Kenya",
          "fertility": 5,
          "life_expect": 50.992,
          "pop": 29985839,
          "region": "Africa",
          "year": 2000
         },
         {
          "cluster": 2,
          "country": "Kenya",
          "fertility": 4.959,
          "life_expect": 54.11,
          "pop": 33829590,
          "region": "Africa",
          "year": 2005
         },
         {
          "cluster": 4,
          "country": "South Korea",
          "fertility": 3.8,
          "life_expect": 54.081,
          "pop": 8839427,
          "region": "Asia/Pacific",
          "year": 1955
         },
         {
          "cluster": 4,
          "country": "South Korea",
          "fertility": 3.41,
          "life_expect": 56.656,
          "pop": 10391909,
          "region": "Asia/Pacific",
          "year": 1960
         },
         {
          "cluster": 4,
          "country": "South Korea",
          "fertility": 4.09,
          "life_expect": 59.942,
          "pop": 11868751,
          "region": "Asia/Pacific",
          "year": 1965
         },
         {
          "cluster": 4,
          "country": "South Korea",
          "fertility": 3.7199999999999998,
          "life_expect": 63.983,
          "pop": 13911902,
          "region": "Asia/Pacific",
          "year": 1970
         },
         {
          "cluster": 4,
          "country": "South Korea",
          "fertility": 2.58,
          "life_expect": 67.159,
          "pop": 15801308,
          "region": "Asia/Pacific",
          "year": 1975
         },
         {
          "cluster": 4,
          "country": "South Korea",
          "fertility": 2.93,
          "life_expect": 69.1,
          "pop": 17113626,
          "region": "Asia/Pacific",
          "year": 1980
         },
         {
          "cluster": 4,
          "country": "South Korea",
          "fertility": 2.45,
          "life_expect": 70.647,
          "pop": 18481420,
          "region": "Asia/Pacific",
          "year": 1985
         },
         {
          "cluster": 4,
          "country": "South Korea",
          "fertility": 2.35,
          "life_expect": 69.978,
          "pop": 20018546,
          "region": "Asia/Pacific",
          "year": 1990
         },
         {
          "cluster": 4,
          "country": "South Korea",
          "fertility": 2.0938,
          "life_expect": 67.727,
          "pop": 21561856,
          "region": "Asia/Pacific",
          "year": 1995
         },
         {
          "cluster": 4,
          "country": "South Korea",
          "fertility": 1.9173,
          "life_expect": 66.662,
          "pop": 21647682,
          "region": "Asia/Pacific",
          "year": 2000
         },
         {
          "cluster": 4,
          "country": "South Korea",
          "fertility": 1.85,
          "life_expect": 67.297,
          "pop": 22912177,
          "region": "Asia/Pacific",
          "year": 2005
         },
         {
          "cluster": 4,
          "country": "North Korea",
          "fertility": 6.332,
          "life_expect": 52.681,
          "pop": 21551834,
          "region": "Asia/Pacific",
          "year": 1955
         },
         {
          "cluster": 4,
          "country": "North Korea",
          "fertility": 5.63,
          "life_expect": 55.292,
          "pop": 24784140,
          "region": "Asia/Pacific",
          "year": 1960
         },
         {
          "cluster": 4,
          "country": "North Korea",
          "fertility": 4.708,
          "life_expect": 57.716,
          "pop": 28705000,
          "region": "Asia/Pacific",
          "year": 1965
         },
         {
          "cluster": 4,
          "country": "North Korea",
          "fertility": 4.281,
          "life_expect": 62.612,
          "pop": 32241000,
          "region": "Asia/Pacific",
          "year": 1970
         },
         {
          "cluster": 4,
          "country": "North Korea",
          "fertility": 2.919,
          "life_expect": 64.766,
          "pop": 35281000,
          "region": "Asia/Pacific",
          "year": 1975
         },
         {
          "cluster": 4,
          "country": "North Korea",
          "fertility": 2.234,
          "life_expect": 67.123,
          "pop": 38124000,
          "region": "Asia/Pacific",
          "year": 1980
         },
         {
          "cluster": 4,
          "country": "North Korea",
          "fertility": 1.601,
          "life_expect": 69.81,
          "pop": 40806000,
          "region": "Asia/Pacific",
          "year": 1985
         },
         {
          "cluster": 4,
          "country": "North Korea",
          "fertility": 1.6960000000000002,
          "life_expect": 72.244,
          "pop": 42869000,
          "region": "Asia/Pacific",
          "year": 1990
         },
         {
          "cluster": 4,
          "country": "North Korea",
          "fertility": 1.514,
          "life_expect": 74.647,
          "pop": 45264146,
          "region": "Asia/Pacific",
          "year": 1995
         },
         {
          "cluster": 4,
          "country": "North Korea",
          "fertility": 1.242,
          "life_expect": 77.045,
          "pop": 47351083,
          "region": "Asia/Pacific",
          "year": 2000
         },
         {
          "cluster": 4,
          "country": "North Korea",
          "fertility": 1.21,
          "life_expect": 78.623,
          "pop": 48640671,
          "region": "Asia/Pacific",
          "year": 2005
         },
         {
          "cluster": 5,
          "country": "Lebanon",
          "fertility": 5.72,
          "life_expect": 59.489,
          "pop": 1560985,
          "region": "Middle East",
          "year": 1955
         },
         {
          "cluster": 5,
          "country": "Lebanon",
          "fertility": 5.689,
          "life_expect": 62.094,
          "pop": 1786235,
          "region": "Middle East",
          "year": 1960
         },
         {
          "cluster": 5,
          "country": "Lebanon",
          "fertility": 5.336,
          "life_expect": 63.87,
          "pop": 2057945,
          "region": "Middle East",
          "year": 1965
         },
         {
          "cluster": 5,
          "country": "Lebanon",
          "fertility": 4.78,
          "life_expect": 65.421,
          "pop": 2383029,
          "region": "Middle East",
          "year": 1970
         },
         {
          "cluster": 5,
          "country": "Lebanon",
          "fertility": 4.311,
          "life_expect": 66.099,
          "pop": 3098159,
          "region": "Middle East",
          "year": 1975
         },
         {
          "cluster": 5,
          "country": "Lebanon",
          "fertility": 3.895,
          "life_expect": 66.983,
          "pop": 3085876,
          "region": "Middle East",
          "year": 1980
         },
         {
          "cluster": 5,
          "country": "Lebanon",
          "fertility": 3.313,
          "life_expect": 67.926,
          "pop": 3088235,
          "region": "Middle East",
          "year": 1985
         },
         {
          "cluster": 5,
          "country": "Lebanon",
          "fertility": 3,
          "life_expect": 69.292,
          "pop": 3147267,
          "region": "Middle East",
          "year": 1990
         },
         {
          "cluster": 5,
          "country": "Lebanon",
          "fertility": 2.6950000000000003,
          "life_expect": 70.265,
          "pop": 3334733,
          "region": "Middle East",
          "year": 1995
         },
         {
          "cluster": 5,
          "country": "Lebanon",
          "fertility": 2.319,
          "life_expect": 71.028,
          "pop": 3578036,
          "region": "Middle East",
          "year": 2000
         },
         {
          "cluster": 5,
          "country": "Lebanon",
          "fertility": 2.209,
          "life_expect": 71.993,
          "pop": 3826018,
          "region": "Middle East",
          "year": 2005
         },
         {
          "cluster": 3,
          "country": "Mexico",
          "fertility": 6.8,
          "life_expect": 55.19,
          "pop": 32929914,
          "region": "Americas",
          "year": 1955
         },
         {
          "cluster": 3,
          "country": "Mexico",
          "fertility": 6.7495,
          "life_expect": 58.299,
          "pop": 38578505,
          "region": "Americas",
          "year": 1960
         },
         {
          "cluster": 3,
          "country": "Mexico",
          "fertility": 6.7495,
          "life_expect": 60.11,
          "pop": 45142399,
          "region": "Americas",
          "year": 1965
         },
         {
          "cluster": 3,
          "country": "Mexico",
          "fertility": 6.5,
          "life_expect": 62.361,
          "pop": 52775158,
          "region": "Americas",
          "year": 1970
         },
         {
          "cluster": 3,
          "country": "Mexico",
          "fertility": 5.2505,
          "life_expect": 65.032,
          "pop": 60678045,
          "region": "Americas",
          "year": 1975
         },
         {
          "cluster": 3,
          "country": "Mexico",
          "fertility": 4.25,
          "life_expect": 67.405,
          "pop": 68347479,
          "region": "Americas",
          "year": 1980
         },
         {
          "cluster": 3,
          "country": "Mexico",
          "fertility": 3.6295,
          "life_expect": 69.498,
          "pop": 76767225,
          "region": "Americas",
          "year": 1985
         },
         {
          "cluster": 3,
          "country": "Mexico",
          "fertility": 3.1905,
          "life_expect": 71.455,
          "pop": 84913652,
          "region": "Americas",
          "year": 1990
         },
         {
          "cluster": 3,
          "country": "Mexico",
          "fertility": 2.6705,
          "life_expect": 73.67,
          "pop": 92880353,
          "region": "Americas",
          "year": 1995
         },
         {
          "cluster": 3,
          "country": "Mexico",
          "fertility": 2.4005,
          "life_expect": 74.902,
          "pop": 99926620,
          "region": "Americas",
          "year": 2000
         },
         {
          "cluster": 3,
          "country": "Mexico",
          "fertility": 2.211,
          "life_expect": 76.195,
          "pop": 106202903,
          "region": "Americas",
          "year": 2005
         },
         {
          "cluster": 1,
          "country": "Netherlands",
          "fertility": 3.095,
          "life_expect": 72.99,
          "pop": 10750842,
          "region": "Europe",
          "year": 1955
         },
         {
          "cluster": 1,
          "country": "Netherlands",
          "fertility": 3.168,
          "life_expect": 73.23,
          "pop": 11486000,
          "region": "Europe",
          "year": 1960
         },
         {
          "cluster": 1,
          "country": "Netherlands",
          "fertility": 2.797,
          "life_expect": 73.82,
          "pop": 12292000,
          "region": "Europe",
          "year": 1965
         },
         {
          "cluster": 1,
          "country": "Netherlands",
          "fertility": 2.059,
          "life_expect": 73.75,
          "pop": 13032335,
          "region": "Europe",
          "year": 1970
         },
         {
          "cluster": 1,
          "country": "Netherlands",
          "fertility": 1.596,
          "life_expect": 75.24,
          "pop": 13653438,
          "region": "Europe",
          "year": 1975
         },
         {
          "cluster": 1,
          "country": "Netherlands",
          "fertility": 1.5150000000000001,
          "life_expect": 76.05,
          "pop": 14143901,
          "region": "Europe",
          "year": 1980
         },
         {
          "cluster": 1,
          "country": "Netherlands",
          "fertility": 1.5550000000000002,
          "life_expect": 76.83,
          "pop": 14491380,
          "region": "Europe",
          "year": 1985
         },
         {
          "cluster": 1,
          "country": "Netherlands",
          "fertility": 1.583,
          "life_expect": 77.42,
          "pop": 14951510,
          "region": "Europe",
          "year": 1990
         },
         {
          "cluster": 1,
          "country": "Netherlands",
          "fertility": 1.6,
          "life_expect": 78.03,
          "pop": 15459054,
          "region": "Europe",
          "year": 1995
         },
         {
          "cluster": 1,
          "country": "Netherlands",
          "fertility": 1.726,
          "life_expect": 78.53,
          "pop": 15907853,
          "region": "Europe",
          "year": 2000
         },
         {
          "cluster": 1,
          "country": "Netherlands",
          "fertility": 1.721,
          "life_expect": 79.762,
          "pop": 16407491,
          "region": "Europe",
          "year": 2005
         },
         {
          "cluster": 4,
          "country": "New Zealand",
          "fertility": 4.07,
          "life_expect": 70.26,
          "pop": 2136168,
          "region": "Asia/Pacific",
          "year": 1955
         },
         {
          "cluster": 4,
          "country": "New Zealand",
          "fertility": 4.022,
          "life_expect": 71.24,
          "pop": 2371746,
          "region": "Asia/Pacific",
          "year": 1960
         },
         {
          "cluster": 4,
          "country": "New Zealand",
          "fertility": 3.348,
          "life_expect": 71.52,
          "pop": 2640400,
          "region": "Asia/Pacific",
          "year": 1965
         },
         {
          "cluster": 4,
          "country": "New Zealand",
          "fertility": 2.843,
          "life_expect": 71.89,
          "pop": 2828050,
          "region": "Asia/Pacific",
          "year": 1970
         },
         {
          "cluster": 4,
          "country": "New Zealand",
          "fertility": 2.178,
          "life_expect": 72.22,
          "pop": 3117800,
          "region": "Asia/Pacific",
          "year": 1975
         },
         {
          "cluster": 4,
          "country": "New Zealand",
          "fertility": 1.963,
          "life_expect": 73.84,
          "pop": 3170150,
          "region": "Asia/Pacific",
          "year": 1980
         },
         {
          "cluster": 4,
          "country": "New Zealand",
          "fertility": 2.053,
          "life_expect": 74.32,
          "pop": 3298050,
          "region": "Asia/Pacific",
          "year": 1985
         },
         {
          "cluster": 4,
          "country": "New Zealand",
          "fertility": 2.061,
          "life_expect": 76.33,
          "pop": 3359604,
          "region": "Asia/Pacific",
          "year": 1990
         },
         {
          "cluster": 4,
          "country": "New Zealand",
          "fertility": 1.952,
          "life_expect": 77.55,
          "pop": 3565990,
          "region": "Asia/Pacific",
          "year": 1995
         },
         {
          "cluster": 4,
          "country": "New Zealand",
          "fertility": 1.964,
          "life_expect": 79.11,
          "pop": 3819762,
          "region": "Asia/Pacific",
          "year": 2000
         },
         {
          "cluster": 4,
          "country": "New Zealand",
          "fertility": 1.994,
          "life_expect": 80.204,
          "pop": 4035461,
          "region": "Asia/Pacific",
          "year": 2005
         },
         {
          "cluster": 2,
          "country": "Nigeria",
          "fertility": 6.9,
          "life_expect": 37.802,
          "pop": 35458978,
          "region": "Africa",
          "year": 1955
         },
         {
          "cluster": 2,
          "country": "Nigeria",
          "fertility": 6.9,
          "life_expect": 39.36,
          "pop": 39914593,
          "region": "Africa",
          "year": 1960
         },
         {
          "cluster": 2,
          "country": "Nigeria",
          "fertility": 6.9,
          "life_expect": 41.04,
          "pop": 45020052,
          "region": "Africa",
          "year": 1965
         },
         {
          "cluster": 2,
          "country": "Nigeria",
          "fertility": 6.9,
          "life_expect": 42.821,
          "pop": 51027516,
          "region": "Africa",
          "year": 1970
         },
         {
          "cluster": 2,
          "country": "Nigeria",
          "fertility": 6.9,
          "life_expect": 44.514,
          "pop": 58522112,
          "region": "Africa",
          "year": 1975
         },
         {
          "cluster": 2,
          "country": "Nigeria",
          "fertility": 6.9,
          "life_expect": 45.826,
          "pop": 68550274,
          "region": "Africa",
          "year": 1980
         },
         {
          "cluster": 2,
          "country": "Nigeria",
          "fertility": 6.834,
          "life_expect": 46.886,
          "pop": 77573154,
          "region": "Africa",
          "year": 1985
         },
         {
          "cluster": 2,
          "country": "Nigeria",
          "fertility": 6.635,
          "life_expect": 47.472,
          "pop": 88510354,
          "region": "Africa",
          "year": 1990
         },
         {
          "cluster": 2,
          "country": "Nigeria",
          "fertility": 6.246,
          "life_expect": 47.464,
          "pop": 100960105,
          "region": "Africa",
          "year": 1995
         },
         {
          "cluster": 2,
          "country": "Nigeria",
          "fertility": 5.845,
          "life_expect": 46.608,
          "pop": 114306700,
          "region": "Africa",
          "year": 2000
         },
         {
          "cluster": 2,
          "country": "Nigeria",
          "fertility": 5.322,
          "life_expect": 46.859,
          "pop": 128765768,
          "region": "Africa",
          "year": 2005
         },
         {
          "cluster": 1,
          "country": "Norway",
          "fertility": 2.8369999999999997,
          "life_expect": 73.44,
          "pop": 3427409,
          "region": "Europe",
          "year": 1955
         },
         {
          "cluster": 1,
          "country": "Norway",
          "fertility": 2.898,
          "life_expect": 73.47,
          "pop": 3581239,
          "region": "Europe",
          "year": 1960
         },
         {
          "cluster": 1,
          "country": "Norway",
          "fertility": 2.719,
          "life_expect": 74.08,
          "pop": 3723153,
          "region": "Europe",
          "year": 1965
         },
         {
          "cluster": 1,
          "country": "Norway",
          "fertility": 2.248,
          "life_expect": 74.34,
          "pop": 3877386,
          "region": "Europe",
          "year": 1970
         },
         {
          "cluster": 1,
          "country": "Norway",
          "fertility": 1.81,
          "life_expect": 75.37,
          "pop": 4007313,
          "region": "Europe",
          "year": 1975
         },
         {
          "cluster": 1,
          "country": "Norway",
          "fertility": 1.687,
          "life_expect": 75.97,
          "pop": 4085620,
          "region": "Europe",
          "year": 1980
         },
         {
          "cluster": 1,
          "country": "Norway",
          "fertility": 1.8,
          "life_expect": 75.89,
          "pop": 4152419,
          "region": "Europe",
          "year": 1985
         },
         {
          "cluster": 1,
          "country": "Norway",
          "fertility": 1.8860000000000001,
          "life_expect": 77.32,
          "pop": 4242006,
          "region": "Europe",
          "year": 1990
         },
         {
          "cluster": 1,
          "country": "Norway",
          "fertility": 1.853,
          "life_expect": 78.32,
          "pop": 4359101,
          "region": "Europe",
          "year": 1995
         },
         {
          "cluster": 1,
          "country": "Norway",
          "fertility": 1.8010000000000002,
          "life_expect": 79.05,
          "pop": 4492400,
          "region": "Europe",
          "year": 2000
         },
         {
          "cluster": 1,
          "country": "Norway",
          "fertility": 1.8479999999999999,
          "life_expect": 80.196,
          "pop": 4593041,
          "region": "Europe",
          "year": 2005
         },
         {
          "cluster": 0,
          "country": "Pakistan",
          "fertility": 6.6,
          "life_expect": 45.557,
          "pop": 44434445,
          "region": "Indian Subcontinent",
          "year": 1955
         },
         {
          "cluster": 0,
          "country": "Pakistan",
          "fertility": 6.6,
          "life_expect": 47.67,
          "pop": 50386898,
          "region": "Indian Subcontinent",
          "year": 1960
         },
         {
          "cluster": 0,
          "country": "Pakistan",
          "fertility": 6.6,
          "life_expect": 49.8,
          "pop": 57494940,
          "region": "Indian Subcontinent",
          "year": 1965
         },
         {
          "cluster": 0,
          "country": "Pakistan",
          "fertility": 6.6,
          "life_expect": 51.929,
          "pop": 65705964,
          "region": "Indian Subcontinent",
          "year": 1970
         },
         {
          "cluster": 0,
          "country": "Pakistan",
          "fertility": 6.6,
          "life_expect": 54.043,
          "pop": 74711541,
          "region": "Indian Subcontinent",
          "year": 1975
         },
         {
          "cluster": 0,
          "country": "Pakistan",
          "fertility": 6.6,
          "life_expect": 56.158,
          "pop": 85219117,
          "region": "Indian Subcontinent",
          "year": 1980
         },
         {
          "cluster": 0,
          "country": "Pakistan",
          "fertility": 6.66,
          "life_expect": 58.245,
          "pop": 99060352,
          "region": "Indian Subcontinent",
          "year": 1985
         },
         {
          "cluster": 0,
          "country": "Pakistan",
          "fertility": 5.8,
          "life_expect": 60.838,
          "pop": 114578478,
          "region": "Indian Subcontinent",
          "year": 1990
         },
         {
          "cluster": 0,
          "country": "Pakistan",
          "fertility": 4.9596,
          "life_expect": 61.818,
          "pop": 128690285,
          "region": "Indian Subcontinent",
          "year": 1995
         },
         {
          "cluster": 0,
          "country": "Pakistan",
          "fertility": 3.9936,
          "life_expect": 63.61,
          "pop": 146342958,
          "region": "Indian Subcontinent",
          "year": 2000
         },
         {
          "cluster": 0,
          "country": "Pakistan",
          "fertility": 3.5211,
          "life_expect": 65.483,
          "pop": 162419946,
          "region": "Indian Subcontinent",
          "year": 2005
         },
         {
          "cluster": 3,
          "country": "Peru",
          "fertility": 6.853,
          "life_expect": 46.263,
          "pop": 8671500,
          "region": "Americas",
          "year": 1955
         },
         {
          "cluster": 3,
          "country": "Peru",
          "fertility": 6.853,
          "life_expect": 49.096,
          "pop": 9931000,
          "region": "Americas",
          "year": 1960
         },
         {
          "cluster": 3,
          "country": "Peru",
          "fertility": 6.5600000000000005,
          "life_expect": 51.445,
          "pop": 11467300,
          "region": "Americas",
          "year": 1965
         },
         {
          "cluster": 3,
          "country": "Peru",
          "fertility": 6,
          "life_expect": 55.448,
          "pop": 13192800,
          "region": "Americas",
          "year": 1970
         },
         {
          "cluster": 3,
          "country": "Peru",
          "fertility": 5.378,
          "life_expect": 58.447,
          "pop": 15161199,
          "region": "Americas",
          "year": 1975
         },
         {
          "cluster": 3,
          "country": "Peru",
          "fertility": 4.65,
          "life_expect": 61.406,
          "pop": 17295298,
          "region": "Americas",
          "year": 1980
         },
         {
          "cluster": 3,
          "country": "Peru",
          "fertility": 4.1,
          "life_expect": 64.134,
          "pop": 19348926,
          "region": "Americas",
          "year": 1985
         },
         {
          "cluster": 3,
          "country": "Peru",
          "fertility": 3.7,
          "life_expect": 66.458,
          "pop": 21511443,
          "region": "Americas",
          "year": 1990
         },
         {
          "cluster": 3,
          "country": "Peru",
          "fertility": 3.0995,
          "life_expect": 68.386,
          "pop": 23846388,
          "region": "Americas",
          "year": 1995
         },
         {
          "cluster": 3,
          "country": "Peru",
          "fertility": 2.7005,
          "life_expect": 69.906,
          "pop": 25979722,
          "region": "Americas",
          "year": 2000
         },
         {
          "cluster": 3,
          "country": "Peru",
          "fertility": 2.5065,
          "life_expect": 71.421,
          "pop": 27925628,
          "region": "Americas",
          "year": 2005
         },
         {
          "cluster": 4,
          "country": "Philippines",
          "fertility": 7.13,
          "life_expect": 51.334,
          "pop": 24553055,
          "region": "Asia/Pacific",
          "year": 1955
         },
         {
          "cluster": 4,
          "country": "Philippines",
          "fertility": 6.85,
          "life_expect": 54.757,
          "pop": 28528939,
          "region": "Asia/Pacific",
          "year": 1960
         },
         {
          "cluster": 4,
          "country": "Philippines",
          "fertility": 6.5,
          "life_expect": 56.393,
          "pop": 33267569,
          "region": "Asia/Pacific",
          "year": 1965
         },
         {
          "cluster": 4,
          "country": "Philippines",
          "fertility": 6,
          "life_expect": 58.065,
          "pop": 38603696,
          "region": "Asia/Pacific",
          "year": 1970
         },
         {
          "cluster": 4,
          "country": "Philippines",
          "fertility": 5.5,
          "life_expect": 60.06,
          "pop": 44336842,
          "region": "Asia/Pacific",
          "year": 1975
         },
         {
          "cluster": 4,
          "country": "Philippines",
          "fertility": 4.95,
          "life_expect": 62.082,
          "pop": 50940182,
          "region": "Asia/Pacific",
          "year": 1980
         },
         {
          "cluster": 4,
          "country": "Philippines",
          "fertility": 4.55,
          "life_expect": 64.151,
          "pop": 57288037,
          "region": "Asia/Pacific",
          "year": 1985
         },
         {
          "cluster": 4,
          "country": "Philippines",
          "fertility": 4.143,
          "life_expect": 66.458,
          "pop": 64318120,
          "region": "Asia/Pacific",
          "year": 1990
         },
         {
          "cluster": 4,
          "country": "Philippines",
          "fertility": 3.7248,
          "life_expect": 68.564,
          "pop": 71717437,
          "region": "Asia/Pacific",
          "year": 1995
         },
         {
          "cluster": 4,
          "country": "Philippines",
          "fertility": 3.5436,
          "life_expect": 70.303,
          "pop": 79739825,
          "region": "Asia/Pacific",
          "year": 2000
         },
         {
          "cluster": 4,
          "country": "Philippines",
          "fertility": 3.2327,
          "life_expect": 71.688,
          "pop": 87857473,
          "region": "Asia/Pacific",
          "year": 2005
         },
         {
          "cluster": 1,
          "country": "Poland",
          "fertility": 3.29,
          "life_expect": 65.77,
          "pop": 27220668,
          "region": "Europe",
          "year": 1955
         },
         {
          "cluster": 1,
          "country": "Poland",
          "fertility": 2.65,
          "life_expect": 67.64,
          "pop": 29589842,
          "region": "Europe",
          "year": 1960
         },
         {
          "cluster": 1,
          "country": "Poland",
          "fertility": 2.27,
          "life_expect": 69.61,
          "pop": 31262358,
          "region": "Europe",
          "year": 1965
         },
         {
          "cluster": 1,
          "country": "Poland",
          "fertility": 2.25,
          "life_expect": 70.85,
          "pop": 32526000,
          "region": "Europe",
          "year": 1970
         },
         {
          "cluster": 1,
          "country": "Poland",
          "fertility": 2.26,
          "life_expect": 70.67,
          "pop": 33969240,
          "region": "Europe",
          "year": 1975
         },
         {
          "cluster": 1,
          "country": "Poland",
          "fertility": 2.33,
          "life_expect": 71.32,
          "pop": 35578016,
          "region": "Europe",
          "year": 1980
         },
         {
          "cluster": 1,
          "country": "Poland",
          "fertility": 2.15,
          "life_expect": 70.98,
          "pop": 37225792,
          "region": "Europe",
          "year": 1985
         },
         {
          "cluster": 1,
          "country": "Poland",
          "fertility": 1.8900000000000001,
          "life_expect": 70.99,
          "pop": 38119408,
          "region": "Europe",
          "year": 1990
         },
         {
          "cluster": 1,
          "country": "Poland",
          "fertility": 1.478,
          "life_expect": 72.75,
          "pop": 38600642,
          "region": "Europe",
          "year": 1995
         },
         {
          "cluster": 1,
          "country": "Poland",
          "fertility": 1.251,
          "life_expect": 74.67,
          "pop": 38654164,
          "region": "Europe",
          "year": 2000
         },
         {
          "cluster": 1,
          "country": "Poland",
          "fertility": 1.227,
          "life_expect": 75.563,
          "pop": 38557984,
          "region": "Europe",
          "year": 2005
         },
         {
          "cluster": 1,
          "country": "Portugal",
          "fertility": 3.03,
          "life_expect": 61.51,
          "pop": 8692600,
          "region": "Europe",
          "year": 1955
         },
         {
          "cluster": 1,
          "country": "Portugal",
          "fertility": 3.074,
          "life_expect": 64.39,
          "pop": 9036700,
          "region": "Europe",
          "year": 1960
         },
         {
          "cluster": 1,
          "country": "Portugal",
          "fertility": 2.849,
          "life_expect": 66.6,
          "pop": 9128850,
          "region": "Europe",
          "year": 1965
         },
         {
          "cluster": 1,
          "country": "Portugal",
          "fertility": 2.748,
          "life_expect": 69.26,
          "pop": 9044200,
          "region": "Europe",
          "year": 1970
         },
         {
          "cluster": 1,
          "country": "Portugal",
          "fertility": 2.41,
          "life_expect": 70.41,
          "pop": 9411090,
          "region": "Europe",
          "year": 1975
         },
         {
          "cluster": 1,
          "country": "Portugal",
          "fertility": 1.982,
          "life_expect": 72.77,
          "pop": 9777800,
          "region": "Europe",
          "year": 1980
         },
         {
          "cluster": 1,
          "country": "Portugal",
          "fertility": 1.5939999999999999,
          "life_expect": 74.06,
          "pop": 9897192,
          "region": "Europe",
          "year": 1985
         },
         {
          "cluster": 1,
          "country": "Portugal",
          "fertility": 1.516,
          "life_expect": 74.86,
          "pop": 9922689,
          "region": "Europe",
          "year": 1990
         },
         {
          "cluster": 1,
          "country": "Portugal",
          "fertility": 1.475,
          "life_expect": 75.97,
          "pop": 10065543,
          "region": "Europe",
          "year": 1995
         },
         {
          "cluster": 1,
          "country": "Portugal",
          "fertility": 1.454,
          "life_expect": 77.29,
          "pop": 10335597,
          "region": "Europe",
          "year": 2000
         },
         {
          "cluster": 1,
          "country": "Portugal",
          "fertility": 1.455,
          "life_expect": 78.098,
          "pop": 10566212,
          "region": "Europe",
          "year": 2005
         },
         {
          "cluster": 2,
          "country": "Rwanda",
          "fertility": 8,
          "life_expect": 41.5,
          "pop": 2698272,
          "region": "Africa",
          "year": 1955
         },
         {
          "cluster": 2,
          "country": "Rwanda",
          "fertility": 8.1,
          "life_expect": 43,
          "pop": 3031804,
          "region": "Africa",
          "year": 1960
         },
         {
          "cluster": 2,
          "country": "Rwanda",
          "fertility": 8.2,
          "life_expect": 44.1,
          "pop": 3264640,
          "region": "Africa",
          "year": 1965
         },
         {
          "cluster": 2,
          "country": "Rwanda",
          "fertility": 8.29,
          "life_expect": 44.6,
          "pop": 3769171,
          "region": "Africa",
          "year": 1970
         },
         {
          "cluster": 2,
          "country": "Rwanda",
          "fertility": 8.492,
          "life_expect": 45,
          "pop": 4356863,
          "region": "Africa",
          "year": 1975
         },
         {
          "cluster": 2,
          "country": "Rwanda",
          "fertility": 8.5,
          "life_expect": 46.218,
          "pop": 5138689,
          "region": "Africa",
          "year": 1980
         },
         {
          "cluster": 2,
          "country": "Rwanda",
          "fertility": 8.25,
          "life_expect": 44.02,
          "pop": 6009833,
          "region": "Africa",
          "year": 1985
         },
         {
          "cluster": 2,
          "country": "Rwanda",
          "fertility": 6.9,
          "life_expect": 23.599,
          "pop": 6923738,
          "region": "Africa",
          "year": 1990
         },
         {
          "cluster": 2,
          "country": "Rwanda",
          "fertility": 6.0993,
          "life_expect": 36.087,
          "pop": 5706501,
          "region": "Africa",
          "year": 1995
         },
         {
          "cluster": 2,
          "country": "Rwanda",
          "fertility": 6.01,
          "life_expect": 43.413,
          "pop": 7507056,
          "region": "Africa",
          "year": 2000
         },
         {
          "cluster": 2,
          "country": "Rwanda",
          "fertility": 5.9169,
          "life_expect": 46.242,
          "pop": 8440820,
          "region": "Africa",
          "year": 2005
         },
         {
          "cluster": 5,
          "country": "Saudi Arabia",
          "fertility": 7.175,
          "life_expect": 42.868,
          "pop": 4243218,
          "region": "Middle East",
          "year": 1955
         },
         {
          "cluster": 5,
          "country": "Saudi Arabia",
          "fertility": 7.257,
          "life_expect": 45.914,
          "pop": 4718301,
          "region": "Middle East",
          "year": 1960
         },
         {
          "cluster": 5,
          "country": "Saudi Arabia",
          "fertility": 7.257,
          "life_expect": 49.901,
          "pop": 5327432,
          "region": "Middle East",
          "year": 1965
         },
         {
          "cluster": 5,
          "country": "Saudi Arabia",
          "fertility": 7.298,
          "life_expect": 53.886,
          "pop": 6109051,
          "region": "Middle East",
          "year": 1970
         },
         {
          "cluster": 5,
          "country": "Saudi Arabia",
          "fertility": 7.2780000000000005,
          "life_expect": 58.69,
          "pop": 7204820,
          "region": "Middle East",
          "year": 1975
         },
         {
          "cluster": 5,
          "country": "Saudi Arabia",
          "fertility": 7.015,
          "life_expect": 63.012,
          "pop": 9999161,
          "region": "Middle East",
          "year": 1980
         },
         {
          "cluster": 5,
          "country": "Saudi Arabia",
          "fertility": 6.217,
          "life_expect": 66.295,
          "pop": 13330067,
          "region": "Middle East",
          "year": 1985
         },
         {
          "cluster": 5,
          "country": "Saudi Arabia",
          "fertility": 5.446,
          "life_expect": 68.768,
          "pop": 16060761,
          "region": "Middle East",
          "year": 1990
         },
         {
          "cluster": 5,
          "country": "Saudi Arabia",
          "fertility": 4.621,
          "life_expect": 70.533,
          "pop": 19966998,
          "region": "Middle East",
          "year": 1995
         },
         {
          "cluster": 5,
          "country": "Saudi Arabia",
          "fertility": 3.81,
          "life_expect": 71.626,
          "pop": 23153090,
          "region": "Middle East",
          "year": 2000
         },
         {
          "cluster": 5,
          "country": "Saudi Arabia",
          "fertility": 3.352,
          "life_expect": 72.777,
          "pop": 26417599,
          "region": "Middle East",
          "year": 2005
         },
         {
          "cluster": 2,
          "country": "South Africa",
          "fertility": 6.5,
          "life_expect": 47.985,
          "pop": 15368551,
          "region": "Africa",
          "year": 1955
         },
         {
          "cluster": 2,
          "country": "South Africa",
          "fertility": 6.3,
          "life_expect": 49.951,
          "pop": 17416653,
          "region": "Africa",
          "year": 1960
         },
         {
          "cluster": 2,
          "country": "South Africa",
          "fertility": 5.7,
          "life_expect": 51.927,
          "pop": 19898242,
          "region": "Africa",
          "year": 1965
         },
         {
          "cluster": 2,
          "country": "South Africa",
          "fertility": 5.47,
          "life_expect": 53.696,
          "pop": 22739921,
          "region": "Africa",
          "year": 1970
         },
         {
          "cluster": 2,
          "country": "South Africa",
          "fertility": 5,
          "life_expect": 55.527,
          "pop": 25815144,
          "region": "Africa",
          "year": 1975
         },
         {
          "cluster": 2,
          "country": "South Africa",
          "fertility": 4.556,
          "life_expect": 58.161,
          "pop": 29251588,
          "region": "Africa",
          "year": 1980
         },
         {
          "cluster": 2,
          "country": "South Africa",
          "fertility": 3.85,
          "life_expect": 60.834,
          "pop": 34254092,
          "region": "Africa",
          "year": 1985
         },
         {
          "cluster": 2,
          "country": "South Africa",
          "fertility": 3.343,
          "life_expect": 61.888,
          "pop": 38391094,
          "region": "Africa",
          "year": 1990
         },
         {
          "cluster": 2,
          "country": "South Africa",
          "fertility": 2.954,
          "life_expect": 60.236,
          "pop": 41779149,
          "region": "Africa",
          "year": 1995
         },
         {
          "cluster": 2,
          "country": "South Africa",
          "fertility": 2.802,
          "life_expect": 53.365,
          "pop": 44066197,
          "region": "Africa",
          "year": 2000
         },
         {
          "cluster": 2,
          "country": "South Africa",
          "fertility": 2.637,
          "life_expect": 49.339,
          "pop": 44344136,
          "region": "Africa",
          "year": 2005
         },
         {
          "cluster": 1,
          "country": "Spain",
          "fertility": 2.75,
          "life_expect": 66.66,
          "pop": 29318745,
          "region": "Europe",
          "year": 1955
         },
         {
          "cluster": 1,
          "country": "Spain",
          "fertility": 2.89,
          "life_expect": 69.69,
          "pop": 30641187,
          "region": "Europe",
          "year": 1960
         },
         {
          "cluster": 1,
          "country": "Spain",
          "fertility": 2.92,
          "life_expect": 71.44,
          "pop": 32084511,
          "region": "Europe",
          "year": 1965
         },
         {
          "cluster": 1,
          "country": "Spain",
          "fertility": 2.86,
          "life_expect": 73.06,
          "pop": 33876479,
          "region": "Europe",
          "year": 1970
         },
         {
          "cluster": 1,
          "country": "Spain",
          "fertility": 2.5700000000000003,
          "life_expect": 74.39,
          "pop": 35563535,
          "region": "Europe",
          "year": 1975
         },
         {
          "cluster": 1,
          "country": "Spain",
          "fertility": 1.8900000000000001,
          "life_expect": 76.3,
          "pop": 37488360,
          "region": "Europe",
          "year": 1980
         },
         {
          "cluster": 1,
          "country": "Spain",
          "fertility": 1.48,
          "life_expect": 76.9,
          "pop": 38534853,
          "region": "Europe",
          "year": 1985
         },
         {
          "cluster": 1,
          "country": "Spain",
          "fertility": 1.27,
          "life_expect": 77.57,
          "pop": 39350769,
          "region": "Europe",
          "year": 1990
         },
         {
          "cluster": 1,
          "country": "Spain",
          "fertility": 1.182,
          "life_expect": 78.77,
          "pop": 39749715,
          "region": "Europe",
          "year": 1995
         },
         {
          "cluster": 1,
          "country": "Spain",
          "fertility": 1.287,
          "life_expect": 79.78,
          "pop": 40016081,
          "region": "Europe",
          "year": 2000
         },
         {
          "cluster": 1,
          "country": "Spain",
          "fertility": 1.409,
          "life_expect": 80.941,
          "pop": 40341462,
          "region": "Europe",
          "year": 2005
         },
         {
          "cluster": 1,
          "country": "Switzerland",
          "fertility": 2.34,
          "life_expect": 70.56,
          "pop": 4980000,
          "region": "Europe",
          "year": 1955
         },
         {
          "cluster": 1,
          "country": "Switzerland",
          "fertility": 2.51,
          "life_expect": 71.32,
          "pop": 5362000,
          "region": "Europe",
          "year": 1960
         },
         {
          "cluster": 1,
          "country": "Switzerland",
          "fertility": 2.27,
          "life_expect": 72.77,
          "pop": 5943000,
          "region": "Europe",
          "year": 1965
         },
         {
          "cluster": 1,
          "country": "Switzerland",
          "fertility": 1.82,
          "life_expect": 73.78,
          "pop": 6267000,
          "region": "Europe",
          "year": 1970
         },
         {
          "cluster": 1,
          "country": "Switzerland",
          "fertility": 1.53,
          "life_expect": 75.39,
          "pop": 6403500,
          "region": "Europe",
          "year": 1975
         },
         {
          "cluster": 1,
          "country": "Switzerland",
          "fertility": 1.53,
          "life_expect": 76.21,
          "pop": 6385229,
          "region": "Europe",
          "year": 1980
         },
         {
          "cluster": 1,
          "country": "Switzerland",
          "fertility": 1.53,
          "life_expect": 77.41,
          "pop": 6563770,
          "region": "Europe",
          "year": 1985
         },
         {
          "cluster": 1,
          "country": "Switzerland",
          "fertility": 1.54,
          "life_expect": 78.03,
          "pop": 6836626,
          "region": "Europe",
          "year": 1990
         },
         {
          "cluster": 1,
          "country": "Switzerland",
          "fertility": 1.47,
          "life_expect": 79.37,
          "pop": 7157106,
          "region": "Europe",
          "year": 1995
         },
         {
          "cluster": 1,
          "country": "Switzerland",
          "fertility": 1.415,
          "life_expect": 80.62,
          "pop": 7266920,
          "region": "Europe",
          "year": 2000
         },
         {
          "cluster": 1,
          "country": "Switzerland",
          "fertility": 1.42,
          "life_expect": 81.701,
          "pop": 7489370,
          "region": "Europe",
          "year": 2005
         },
         {
          "cluster": 1,
          "country": "Turkey",
          "fertility": 6.6,
          "life_expect": 48.079,
          "pop": 24144571,
          "region": "Europe",
          "year": 1955
         },
         {
          "cluster": 1,
          "country": "Turkey",
          "fertility": 6.19,
          "life_expect": 52.098,
          "pop": 28217122,
          "region": "Europe",
          "year": 1960
         },
         {
          "cluster": 1,
          "country": "Turkey",
          "fertility": 5.7,
          "life_expect": 54.336,
          "pop": 31950718,
          "region": "Europe",
          "year": 1965
         },
         {
          "cluster": 1,
          "country": "Turkey",
          "fertility": 5.3,
          "life_expect": 57.005,
          "pop": 35758382,
          "region": "Europe",
          "year": 1970
         },
         {
          "cluster": 1,
          "country": "Turkey",
          "fertility": 4.715,
          "life_expect": 59.507,
          "pop": 40529798,
          "region": "Europe",
          "year": 1975
         },
         {
          "cluster": 1,
          "country": "Turkey",
          "fertility": 4.15,
          "life_expect": 61.036,
          "pop": 45120802,
          "region": "Europe",
          "year": 1980
         },
         {
          "cluster": 1,
          "country": "Turkey",
          "fertility": 3.276,
          "life_expect": 63.108,
          "pop": 50669003,
          "region": "Europe",
          "year": 1985
         },
         {
          "cluster": 1,
          "country": "Turkey",
          "fertility": 2.904,
          "life_expect": 66.146,
          "pop": 56084632,
          "region": "Europe",
          "year": 1990
         },
         {
          "cluster": 1,
          "country": "Turkey",
          "fertility": 2.574,
          "life_expect": 68.835,
          "pop": 61188984,
          "region": "Europe",
          "year": 1995
         },
         {
          "cluster": 1,
          "country": "Turkey",
          "fertility": 2.23,
          "life_expect": 70.845,
          "pop": 65666677,
          "region": "Europe",
          "year": 2000
         },
         {
          "cluster": 1,
          "country": "Turkey",
          "fertility": 2.143,
          "life_expect": 71.777,
          "pop": 69660559,
          "region": "Europe",
          "year": 2005
         },
         {
          "cluster": 1,
          "country": "United Kingdom",
          "fertility": 2.49,
          "life_expect": 70.42,
          "pop": 50946000,
          "region": "Europe",
          "year": 1955
         },
         {
          "cluster": 1,
          "country": "United Kingdom",
          "fertility": 2.81,
          "life_expect": 70.76,
          "pop": 52372000,
          "region": "Europe",
          "year": 1960
         },
         {
          "cluster": 1,
          "country": "United Kingdom",
          "fertility": 2.52,
          "life_expect": 71.36,
          "pop": 54350000,
          "region": "Europe",
          "year": 1965
         },
         {
          "cluster": 1,
          "country": "United Kingdom",
          "fertility": 2.04,
          "life_expect": 72.01,
          "pop": 55632000,
          "region": "Europe",
          "year": 1970
         },
         {
          "cluster": 1,
          "country": "United Kingdom",
          "fertility": 1.72,
          "life_expect": 72.76,
          "pop": 56215000,
          "region": "Europe",
          "year": 1975
         },
         {
          "cluster": 1,
          "country": "United Kingdom",
          "fertility": 1.8,
          "life_expect": 74.04,
          "pop": 56314000,
          "region": "Europe",
          "year": 1980
         },
         {
          "cluster": 1,
          "country": "United Kingdom",
          "fertility": 1.81,
          "life_expect": 75.007,
          "pop": 56620240,
          "region": "Europe",
          "year": 1985
         },
         {
          "cluster": 1,
          "country": "United Kingdom",
          "fertility": 1.78,
          "life_expect": 76.42,
          "pop": 57493307,
          "region": "Europe",
          "year": 1990
         },
         {
          "cluster": 1,
          "country": "United Kingdom",
          "fertility": 1.7000000000000002,
          "life_expect": 77.218,
          "pop": 58426014,
          "region": "Europe",
          "year": 1995
         },
         {
          "cluster": 1,
          "country": "United Kingdom",
          "fertility": 1.695,
          "life_expect": 78.471,
          "pop": 59522468,
          "region": "Europe",
          "year": 2000
         },
         {
          "cluster": 1,
          "country": "United Kingdom",
          "fertility": 1.815,
          "life_expect": 79.425,
          "pop": 60441457,
          "region": "Europe",
          "year": 2005
         },
         {
          "cluster": 3,
          "country": "United States",
          "fertility": 3.706,
          "life_expect": 69.49,
          "pop": 165931000,
          "region": "Americas",
          "year": 1955
         },
         {
          "cluster": 3,
          "country": "United States",
          "fertility": 3.314,
          "life_expect": 70.21,
          "pop": 180671000,
          "region": "Americas",
          "year": 1960
         },
         {
          "cluster": 3,
          "country": "United States",
          "fertility": 2.545,
          "life_expect": 70.76,
          "pop": 194303000,
          "region": "Americas",
          "year": 1965
         },
         {
          "cluster": 3,
          "country": "United States",
          "fertility": 2.016,
          "life_expect": 71.34,
          "pop": 205052000,
          "region": "Americas",
          "year": 1970
         },
         {
          "cluster": 3,
          "country": "United States",
          "fertility": 1.788,
          "life_expect": 73.38,
          "pop": 215973000,
          "region": "Americas",
          "year": 1975
         },
         {
          "cluster": 3,
          "country": "United States",
          "fertility": 1.8250000000000002,
          "life_expect": 74.65,
          "pop": 227726463,
          "region": "Americas",
          "year": 1980
         },
         {
          "cluster": 3,
          "country": "United States",
          "fertility": 1.924,
          "life_expect": 75.02,
          "pop": 238466283,
          "region": "Americas",
          "year": 1985
         },
         {
          "cluster": 3,
          "country": "United States",
          "fertility": 2.025,
          "life_expect": 76.09,
          "pop": 250131894,
          "region": "Americas",
          "year": 1990
         },
         {
          "cluster": 3,
          "country": "United States",
          "fertility": 1.994,
          "life_expect": 76.81,
          "pop": 266557091,
          "region": "Americas",
          "year": 1995
         },
         {
          "cluster": 3,
          "country": "United States",
          "fertility": 2.038,
          "life_expect": 77.31,
          "pop": 282338631,
          "region": "Americas",
          "year": 2000
         },
         {
          "cluster": 3,
          "country": "United States",
          "fertility": 2.054,
          "life_expect": 78.242,
          "pop": 295734134,
          "region": "Americas",
          "year": 2005
         },
         {
          "cluster": 3,
          "country": "Venezuela",
          "fertility": 6.4585,
          "life_expect": 57.907,
          "pop": 6170497,
          "region": "Americas",
          "year": 1955
         },
         {
          "cluster": 3,
          "country": "Venezuela",
          "fertility": 6.657,
          "life_expect": 60.77,
          "pop": 7556483,
          "region": "Americas",
          "year": 1960
         },
         {
          "cluster": 3,
          "country": "Venezuela",
          "fertility": 5.9045000000000005,
          "life_expect": 63.479,
          "pop": 9067735,
          "region": "Americas",
          "year": 1965
         },
         {
          "cluster": 3,
          "country": "Venezuela",
          "fertility": 4.941,
          "life_expect": 65.712,
          "pop": 10758017,
          "region": "Americas",
          "year": 1970
         },
         {
          "cluster": 3,
          "country": "Venezuela",
          "fertility": 4.4685,
          "life_expect": 67.456,
          "pop": 12674987,
          "region": "Americas",
          "year": 1975
         },
         {
          "cluster": 3,
          "country": "Venezuela",
          "fertility": 3.957,
          "life_expect": 68.557,
          "pop": 14767890,
          "region": "Americas",
          "year": 1980
         },
         {
          "cluster": 3,
          "country": "Venezuela",
          "fertility": 3.6485000000000003,
          "life_expect": 70.19,
          "pop": 16997509,
          "region": "Americas",
          "year": 1985
         },
         {
          "cluster": 3,
          "country": "Venezuela",
          "fertility": 3.25,
          "life_expect": 71.15,
          "pop": 19325222,
          "region": "Americas",
          "year": 1990
         },
         {
          "cluster": 3,
          "country": "Venezuela",
          "fertility": 2.9415,
          "life_expect": 72.146,
          "pop": 21555902,
          "region": "Americas",
          "year": 1995
         },
         {
          "cluster": 3,
          "country": "Venezuela",
          "fertility": 2.723,
          "life_expect": 72.766,
          "pop": 23542649,
          "region": "Americas",
          "year": 2000
         },
         {
          "cluster": 3,
          "country": "Venezuela",
          "fertility": 2.547,
          "life_expect": 73.747,
          "pop": 25375281,
          "region": "Americas",
          "year": 2005
         }
        ]
       },
       "encoding": {
        "color": {
         "field": "region",
         "type": "nominal"
        },
        "x": {
         "field": "life_expect",
         "type": "quantitative"
        },
        "y": {
         "field": "fertility",
         "type": "quantitative"
        }
       },
       "mark": "point"
      },
      "image/png": "[encoded data removed]",
      "text/plain": [
       "<VegaLite 3 object>\n",
       "\n",
       "If you see this message, it means the renderer has not been properly enabled\n",
       "for the frontend that you are using. For more information, see\n",
       "https://altair-viz.github.io/user_guide/troubleshooting.html\n"
      ]
     },
     "metadata": {},
     "output_type": "display_data"
    }
   ],
   "source": [
    "chart = alt.Chart(\n",
    "    df\n",
    ").mark_point(\n",
    ").encode(\n",
    "    x='life_expect',\n",
    "    y='fertility',\n",
    "    color='region:N'\n",
    ")\n",
    "\n",
    "chart.display()"
   ]
  },
  {
   "cell_type": "code",
   "execution_count": 27,
   "metadata": {},
   "outputs": [
    {
     "data": {
      "application/vnd.vegalite.v3+json": {
       "$schema": "https://vega.github.io/schema/vega-lite/v3.4.0.json",
       "config": {
        "mark": {
         "tooltip": null
        },
        "view": {
         "height": 300,
         "width": 400
        }
       },
       "data": {
        "name": "data-22e08b1331cf96371226aeb5f19ef1f6"
       },
       "datasets": {
        "data-22e08b1331cf96371226aeb5f19ef1f6": [
         {
          "cluster": 0,
          "country": "Afghanistan",
          "fertility": 7.7,
          "life_expect": 30.332,
          "pop": 8891209,
          "region": "Indian Subcontinent",
          "year": 1955
         },
         {
          "cluster": 0,
          "country": "Afghanistan",
          "fertility": 7.0685,
          "life_expect": 43.828,
          "pop": 29928987,
          "region": "Indian Subcontinent",
          "year": 2005
         },
         {
          "cluster": 3,
          "country": "Argentina",
          "fertility": 3.1265,
          "life_expect": 64.399,
          "pop": 18927821,
          "region": "Americas",
          "year": 1955
         },
         {
          "cluster": 3,
          "country": "Argentina",
          "fertility": 2.254,
          "life_expect": 75.32,
          "pop": 39537943,
          "region": "Americas",
          "year": 2005
         },
         {
          "cluster": 3,
          "country": "Aruba",
          "fertility": 5.15,
          "life_expect": 64.381,
          "pop": 53865,
          "region": "Americas",
          "year": 1955
         },
         {
          "cluster": 3,
          "country": "Aruba",
          "fertility": 2.04,
          "life_expect": 74.239,
          "pop": 71566,
          "region": "Americas",
          "year": 2005
         },
         {
          "cluster": 4,
          "country": "Australia",
          "fertility": 3.406,
          "life_expect": 70.33,
          "pop": 9277087,
          "region": "Asia/Pacific",
          "year": 1955
         },
         {
          "cluster": 4,
          "country": "Australia",
          "fertility": 1.788,
          "life_expect": 81.235,
          "pop": 20090437,
          "region": "Asia/Pacific",
          "year": 2005
         },
         {
          "cluster": 1,
          "country": "Austria",
          "fertility": 2.52,
          "life_expect": 67.48,
          "pop": 6946885,
          "region": "Europe",
          "year": 1955
         },
         {
          "cluster": 1,
          "country": "Austria",
          "fertility": 1.42,
          "life_expect": 79.829,
          "pop": 8184691,
          "region": "Europe",
          "year": 2005
         },
         {
          "cluster": 3,
          "country": "Bahamas",
          "fertility": 4.305,
          "life_expect": 62.405,
          "pop": 87138,
          "region": "Americas",
          "year": 1955
         },
         {
          "cluster": 3,
          "country": "Bahamas",
          "fertility": 2.0221,
          "life_expect": 73.495,
          "pop": 301790,
          "region": "Americas",
          "year": 2005
         },
         {
          "cluster": 0,
          "country": "Bangladesh",
          "fertility": 6.76,
          "life_expect": 39.348,
          "pop": 49601520,
          "region": "Indian Subcontinent",
          "year": 1955
         },
         {
          "cluster": 0,
          "country": "Bangladesh",
          "fertility": 2.826,
          "life_expect": 64.062,
          "pop": 144319628,
          "region": "Indian Subcontinent",
          "year": 2005
         },
         {
          "cluster": 3,
          "country": "Barbados",
          "fertility": 4.67,
          "life_expect": 62.57,
          "pop": 227255,
          "region": "Americas",
          "year": 1955
         },
         {
          "cluster": 3,
          "country": "Barbados",
          "fertility": 1.5,
          "life_expect": 77.296,
          "pop": 278870,
          "region": "Americas",
          "year": 2005
         },
         {
          "cluster": 1,
          "country": "Belgium",
          "fertility": 2.496,
          "life_expect": 69.24,
          "pop": 8868475,
          "region": "Europe",
          "year": 1955
         },
         {
          "cluster": 1,
          "country": "Belgium",
          "fertility": 1.646,
          "life_expect": 79.441,
          "pop": 10364388,
          "region": "Europe",
          "year": 2005
         },
         {
          "cluster": 3,
          "country": "Bolivia",
          "fertility": 6.75,
          "life_expect": 41.89,
          "pop": 3074311,
          "region": "Americas",
          "year": 1955
         },
         {
          "cluster": 3,
          "country": "Bolivia",
          "fertility": 3.5,
          "life_expect": 65.554,
          "pop": 8857870,
          "region": "Americas",
          "year": 2005
         },
         {
          "cluster": 3,
          "country": "Brazil",
          "fertility": 6.1501,
          "life_expect": 53.285,
          "pop": 61773546,
          "region": "Americas",
          "year": 1955
         },
         {
          "cluster": 3,
          "country": "Brazil",
          "fertility": 2.245,
          "life_expect": 72.39,
          "pop": 186112794,
          "region": "Americas",
          "year": 2005
         },
         {
          "cluster": 3,
          "country": "Canada",
          "fertility": 3.882,
          "life_expect": 69.96,
          "pop": 16050356,
          "region": "Americas",
          "year": 1955
         },
         {
          "cluster": 3,
          "country": "Canada",
          "fertility": 1.5270000000000001,
          "life_expect": 80.653,
          "pop": 32805041,
          "region": "Americas",
          "year": 2005
         },
         {
          "cluster": 3,
          "country": "Chile",
          "fertility": 5.486,
          "life_expect": 56.074,
          "pop": 6743269,
          "region": "Americas",
          "year": 1955
         },
         {
          "cluster": 3,
          "country": "Chile",
          "fertility": 1.944,
          "life_expect": 78.553,
          "pop": 15980912,
          "region": "Americas",
          "year": 2005
         },
         {
          "cluster": 4,
          "country": "China",
          "fertility": 5.59,
          "life_expect": 50.54896,
          "pop": 608655000,
          "region": "Asia/Pacific",
          "year": 1955
         },
         {
          "cluster": 4,
          "country": "China",
          "fertility": 1.725,
          "life_expect": 72.961,
          "pop": 1303182268,
          "region": "Asia/Pacific",
          "year": 2005
         },
         {
          "cluster": 3,
          "country": "Colombia",
          "fertility": 6.76,
          "life_expect": 55.118,
          "pop": 13588405,
          "region": "Americas",
          "year": 1955
         },
         {
          "cluster": 3,
          "country": "Colombia",
          "fertility": 2.2205,
          "life_expect": 72.889,
          "pop": 42954279,
          "region": "Americas",
          "year": 2005
         },
         {
          "cluster": 3,
          "country": "Costa Rica",
          "fertility": 7.1135,
          "life_expect": 60.026,
          "pop": 1031782,
          "region": "Americas",
          "year": 1955
         },
         {
          "cluster": 3,
          "country": "Costa Rica",
          "fertility": 2.0985,
          "life_expect": 78.782,
          "pop": 4016173,
          "region": "Americas",
          "year": 2005
         },
         {
          "cluster": 1,
          "country": "Croatia",
          "fertility": 2.42,
          "life_expect": 64.77,
          "pop": 3955526,
          "region": "Europe",
          "year": 1955
         },
         {
          "cluster": 1,
          "country": "Croatia",
          "fertility": 1.346,
          "life_expect": 75.748,
          "pop": 4495904,
          "region": "Europe",
          "year": 2005
         },
         {
          "cluster": 3,
          "country": "Cuba",
          "fertility": 3.6995,
          "life_expect": 62.325,
          "pop": 6381106,
          "region": "Americas",
          "year": 1955
         },
         {
          "cluster": 3,
          "country": "Cuba",
          "fertility": 1.49,
          "life_expect": 78.273,
          "pop": 11346670,
          "region": "Americas",
          "year": 2005
         },
         {
          "cluster": 3,
          "country": "Dominican Republic",
          "fertility": 7.6405,
          "life_expect": 49.828,
          "pop": 2737257,
          "region": "Americas",
          "year": 1955
         },
         {
          "cluster": 3,
          "country": "Dominican Republic",
          "fertility": 2.81,
          "life_expect": 72.235,
          "pop": 9049595,
          "region": "Americas",
          "year": 2005
         },
         {
          "cluster": 3,
          "country": "Ecuador",
          "fertility": 6.7,
          "life_expect": 51.356,
          "pop": 3842399,
          "region": "Americas",
          "year": 1955
         },
         {
          "cluster": 3,
          "country": "Ecuador",
          "fertility": 2.578,
          "life_expect": 74.994,
          "pop": 13363593,
          "region": "Americas",
          "year": 2005
         },
         {
          "cluster": 5,
          "country": "Egypt",
          "fertility": 6.97,
          "life_expect": 44.444,
          "pop": 23855527,
          "region": "Middle East",
          "year": 1955
         },
         {
          "cluster": 5,
          "country": "Egypt",
          "fertility": 2.891,
          "life_expect": 71.338,
          "pop": 77505756,
          "region": "Middle East",
          "year": 2005
         },
         {
          "cluster": 3,
          "country": "El Salvador",
          "fertility": 6.8065,
          "life_expect": 48.57,
          "pop": 2221139,
          "region": "Americas",
          "year": 1955
         },
         {
          "cluster": 3,
          "country": "El Salvador",
          "fertility": 2.6825,
          "life_expect": 71.878,
          "pop": 6704932,
          "region": "Americas",
          "year": 2005
         },
         {
          "cluster": 1,
          "country": "Finland",
          "fertility": 2.769,
          "life_expect": 67.49,
          "pop": 4234900,
          "region": "Europe",
          "year": 1955
         },
         {
          "cluster": 1,
          "country": "Finland",
          "fertility": 1.8250000000000002,
          "life_expect": 79.313,
          "pop": 5223442,
          "region": "Europe",
          "year": 2005
         },
         {
          "cluster": 1,
          "country": "France",
          "fertility": 2.7119999999999997,
          "life_expect": 68.93,
          "pop": 43427669,
          "region": "Europe",
          "year": 1955
         },
         {
          "cluster": 1,
          "country": "France",
          "fertility": 1.8916,
          "life_expect": 80.657,
          "pop": 60656178,
          "region": "Europe",
          "year": 2005
         },
         {
          "cluster": 1,
          "country": "Georgia",
          "fertility": 2.909,
          "life_expect": 62.625,
          "pop": 3827154,
          "region": "Europe",
          "year": 1955
         },
         {
          "cluster": 1,
          "country": "Georgia",
          "fertility": 1.407,
          "life_expect": 70.987,
          "pop": 4677401,
          "region": "Europe",
          "year": 2005
         },
         {
          "cluster": 1,
          "country": "Germany",
          "fertility": 2.3,
          "life_expect": 69.1,
          "pop": 70195612,
          "region": "Europe",
          "year": 1955
         },
         {
          "cluster": 1,
          "country": "Germany",
          "fertility": 1.3599999999999999,
          "life_expect": 79.406,
          "pop": 82431390,
          "region": "Europe",
          "year": 2005
         },
         {
          "cluster": 1,
          "country": "Greece",
          "fertility": 2.27,
          "life_expect": 67.86,
          "pop": 7965538,
          "region": "Europe",
          "year": 1955
         },
         {
          "cluster": 1,
          "country": "Greece",
          "fertility": 1.325,
          "life_expect": 79.483,
          "pop": 10668354,
          "region": "Europe",
          "year": 2005
         },
         {
          "cluster": 3,
          "country": "Grenada",
          "fertility": 6.7,
          "life_expect": 63.114,
          "pop": 84621,
          "region": "Americas",
          "year": 1955
         },
         {
          "cluster": 3,
          "country": "Grenada",
          "fertility": 2.302,
          "life_expect": 68.724,
          "pop": 89502,
          "region": "Americas",
          "year": 2005
         },
         {
          "cluster": 3,
          "country": "Haiti",
          "fertility": 6.3,
          "life_expect": 40.696,
          "pop": 3376419,
          "region": "Americas",
          "year": 1955
         },
         {
          "cluster": 3,
          "country": "Haiti",
          "fertility": 3.5445,
          "life_expect": 60.916,
          "pop": 8121622,
          "region": "Americas",
          "year": 2005
         },
         {
          "cluster": 4,
          "country": "Hong Kong",
          "fertility": 4.72,
          "life_expect": 64.75,
          "pop": 2490400,
          "region": "Asia/Pacific",
          "year": 1955
         },
         {
          "cluster": 4,
          "country": "Hong Kong",
          "fertility": 0.966,
          "life_expect": 82.208,
          "pop": 6898686,
          "region": "Asia/Pacific",
          "year": 2005
         },
         {
          "cluster": 1,
          "country": "Iceland",
          "fertility": 4.023,
          "life_expect": 73.47,
          "pop": 158044,
          "region": "Europe",
          "year": 1955
         },
         {
          "cluster": 1,
          "country": "Iceland",
          "fertility": 2.052,
          "life_expect": 81.757,
          "pop": 296737,
          "region": "Europe",
          "year": 2005
         },
         {
          "cluster": 0,
          "country": "India",
          "fertility": 5.8961,
          "life_expect": 40.249,
          "pop": 393000000,
          "region": "Indian Subcontinent",
          "year": 1955
         },
         {
          "cluster": 0,
          "country": "India",
          "fertility": 2.8073,
          "life_expect": 64.698,
          "pop": 1080264388,
          "region": "Indian Subcontinent",
          "year": 2005
         },
         {
          "cluster": 4,
          "country": "Indonesia",
          "fertility": 5.672,
          "life_expect": 39.918,
          "pop": 86807000,
          "region": "Asia/Pacific",
          "year": 1955
         },
         {
          "cluster": 4,
          "country": "Indonesia",
          "fertility": 2.182,
          "life_expect": 70.65,
          "pop": 218465000,
          "region": "Asia/Pacific",
          "year": 2005
         },
         {
          "cluster": 5,
          "country": "Iran",
          "fertility": 7,
          "life_expect": 47.181,
          "pop": 18729000,
          "region": "Middle East",
          "year": 1955
         },
         {
          "cluster": 5,
          "country": "Iran",
          "fertility": 2.04,
          "life_expect": 70.964,
          "pop": 68017860,
          "region": "Middle East",
          "year": 2005
         },
         {
          "cluster": 5,
          "country": "Iraq",
          "fertility": 7.3,
          "life_expect": 48.437,
          "pop": 5903253,
          "region": "Middle East",
          "year": 1955
         },
         {
          "cluster": 5,
          "country": "Iraq",
          "fertility": 4.264,
          "life_expect": 59.545,
          "pop": 26074906,
          "region": "Middle East",
          "year": 2005
         },
         {
          "cluster": 1,
          "country": "Ireland",
          "fertility": 3.68,
          "life_expect": 68.9,
          "pop": 2916133,
          "region": "Europe",
          "year": 1955
         },
         {
          "cluster": 1,
          "country": "Ireland",
          "fertility": 1.964,
          "life_expect": 78.885,
          "pop": 4015676,
          "region": "Europe",
          "year": 2005
         },
         {
          "cluster": 5,
          "country": "Israel",
          "fertility": 3.893,
          "life_expect": 67.84,
          "pop": 1772032,
          "region": "Middle East",
          "year": 1955
         },
         {
          "cluster": 5,
          "country": "Israel",
          "fertility": 2.75,
          "life_expect": 80.745,
          "pop": 6276883,
          "region": "Middle East",
          "year": 2005
         },
         {
          "cluster": 1,
          "country": "Italy",
          "fertility": 2.35,
          "life_expect": 67.81,
          "pop": 48633000,
          "region": "Europe",
          "year": 1955
         },
         {
          "cluster": 1,
          "country": "Italy",
          "fertility": 1.379,
          "life_expect": 80.546,
          "pop": 58103033,
          "region": "Europe",
          "year": 2005
         },
         {
          "cluster": 3,
          "country": "Jamaica",
          "fertility": 5.08,
          "life_expect": 62.61,
          "pop": 1488805,
          "region": "Americas",
          "year": 1955
         },
         {
          "cluster": 3,
          "country": "Jamaica",
          "fertility": 2.4289,
          "life_expect": 72.567,
          "pop": 2735520,
          "region": "Americas",
          "year": 2005
         },
         {
          "cluster": 4,
          "country": "Japan",
          "fertility": 2.08,
          "life_expect": 65.5,
          "pop": 89815060,
          "region": "Asia/Pacific",
          "year": 1955
         },
         {
          "cluster": 4,
          "country": "Japan",
          "fertility": 1.27,
          "life_expect": 82.603,
          "pop": 127417244,
          "region": "Asia/Pacific",
          "year": 2005
         },
         {
          "cluster": 2,
          "country": "Kenya",
          "fertility": 7.816,
          "life_expect": 44.686,
          "pop": 7033999,
          "region": "Africa",
          "year": 1955
         },
         {
          "cluster": 2,
          "country": "Kenya",
          "fertility": 4.959,
          "life_expect": 54.11,
          "pop": 33829590,
          "region": "Africa",
          "year": 2005
         },
         {
          "cluster": 4,
          "country": "South Korea",
          "fertility": 3.8,
          "life_expect": 54.081,
          "pop": 8839427,
          "region": "Asia/Pacific",
          "year": 1955
         },
         {
          "cluster": 4,
          "country": "South Korea",
          "fertility": 1.85,
          "life_expect": 67.297,
          "pop": 22912177,
          "region": "Asia/Pacific",
          "year": 2005
         },
         {
          "cluster": 4,
          "country": "North Korea",
          "fertility": 6.332,
          "life_expect": 52.681,
          "pop": 21551834,
          "region": "Asia/Pacific",
          "year": 1955
         },
         {
          "cluster": 4,
          "country": "North Korea",
          "fertility": 1.21,
          "life_expect": 78.623,
          "pop": 48640671,
          "region": "Asia/Pacific",
          "year": 2005
         },
         {
          "cluster": 5,
          "country": "Lebanon",
          "fertility": 5.72,
          "life_expect": 59.489,
          "pop": 1560985,
          "region": "Middle East",
          "year": 1955
         },
         {
          "cluster": 5,
          "country": "Lebanon",
          "fertility": 2.209,
          "life_expect": 71.993,
          "pop": 3826018,
          "region": "Middle East",
          "year": 2005
         },
         {
          "cluster": 3,
          "country": "Mexico",
          "fertility": 6.8,
          "life_expect": 55.19,
          "pop": 32929914,
          "region": "Americas",
          "year": 1955
         },
         {
          "cluster": 3,
          "country": "Mexico",
          "fertility": 2.211,
          "life_expect": 76.195,
          "pop": 106202903,
          "region": "Americas",
          "year": 2005
         },
         {
          "cluster": 1,
          "country": "Netherlands",
          "fertility": 3.095,
          "life_expect": 72.99,
          "pop": 10750842,
          "region": "Europe",
          "year": 1955
         },
         {
          "cluster": 1,
          "country": "Netherlands",
          "fertility": 1.721,
          "life_expect": 79.762,
          "pop": 16407491,
          "region": "Europe",
          "year": 2005
         },
         {
          "cluster": 4,
          "country": "New Zealand",
          "fertility": 4.07,
          "life_expect": 70.26,
          "pop": 2136168,
          "region": "Asia/Pacific",
          "year": 1955
         },
         {
          "cluster": 4,
          "country": "New Zealand",
          "fertility": 1.994,
          "life_expect": 80.204,
          "pop": 4035461,
          "region": "Asia/Pacific",
          "year": 2005
         },
         {
          "cluster": 2,
          "country": "Nigeria",
          "fertility": 6.9,
          "life_expect": 37.802,
          "pop": 35458978,
          "region": "Africa",
          "year": 1955
         },
         {
          "cluster": 2,
          "country": "Nigeria",
          "fertility": 5.322,
          "life_expect": 46.859,
          "pop": 128765768,
          "region": "Africa",
          "year": 2005
         },
         {
          "cluster": 1,
          "country": "Norway",
          "fertility": 2.8369999999999997,
          "life_expect": 73.44,
          "pop": 3427409,
          "region": "Europe",
          "year": 1955
         },
         {
          "cluster": 1,
          "country": "Norway",
          "fertility": 1.8479999999999999,
          "life_expect": 80.196,
          "pop": 4593041,
          "region": "Europe",
          "year": 2005
         },
         {
          "cluster": 0,
          "country": "Pakistan",
          "fertility": 6.6,
          "life_expect": 45.557,
          "pop": 44434445,
          "region": "Indian Subcontinent",
          "year": 1955
         },
         {
          "cluster": 0,
          "country": "Pakistan",
          "fertility": 3.5211,
          "life_expect": 65.483,
          "pop": 162419946,
          "region": "Indian Subcontinent",
          "year": 2005
         },
         {
          "cluster": 3,
          "country": "Peru",
          "fertility": 6.853,
          "life_expect": 46.263,
          "pop": 8671500,
          "region": "Americas",
          "year": 1955
         },
         {
          "cluster": 3,
          "country": "Peru",
          "fertility": 2.5065,
          "life_expect": 71.421,
          "pop": 27925628,
          "region": "Americas",
          "year": 2005
         },
         {
          "cluster": 4,
          "country": "Philippines",
          "fertility": 7.13,
          "life_expect": 51.334,
          "pop": 24553055,
          "region": "Asia/Pacific",
          "year": 1955
         },
         {
          "cluster": 4,
          "country": "Philippines",
          "fertility": 3.2327,
          "life_expect": 71.688,
          "pop": 87857473,
          "region": "Asia/Pacific",
          "year": 2005
         },
         {
          "cluster": 1,
          "country": "Poland",
          "fertility": 3.29,
          "life_expect": 65.77,
          "pop": 27220668,
          "region": "Europe",
          "year": 1955
         },
         {
          "cluster": 1,
          "country": "Poland",
          "fertility": 1.227,
          "life_expect": 75.563,
          "pop": 38557984,
          "region": "Europe",
          "year": 2005
         },
         {
          "cluster": 1,
          "country": "Portugal",
          "fertility": 3.03,
          "life_expect": 61.51,
          "pop": 8692600,
          "region": "Europe",
          "year": 1955
         },
         {
          "cluster": 1,
          "country": "Portugal",
          "fertility": 1.455,
          "life_expect": 78.098,
          "pop": 10566212,
          "region": "Europe",
          "year": 2005
         },
         {
          "cluster": 2,
          "country": "Rwanda",
          "fertility": 8,
          "life_expect": 41.5,
          "pop": 2698272,
          "region": "Africa",
          "year": 1955
         },
         {
          "cluster": 2,
          "country": "Rwanda",
          "fertility": 5.9169,
          "life_expect": 46.242,
          "pop": 8440820,
          "region": "Africa",
          "year": 2005
         },
         {
          "cluster": 5,
          "country": "Saudi Arabia",
          "fertility": 7.175,
          "life_expect": 42.868,
          "pop": 4243218,
          "region": "Middle East",
          "year": 1955
         },
         {
          "cluster": 5,
          "country": "Saudi Arabia",
          "fertility": 3.352,
          "life_expect": 72.777,
          "pop": 26417599,
          "region": "Middle East",
          "year": 2005
         },
         {
          "cluster": 2,
          "country": "South Africa",
          "fertility": 6.5,
          "life_expect": 47.985,
          "pop": 15368551,
          "region": "Africa",
          "year": 1955
         },
         {
          "cluster": 2,
          "country": "South Africa",
          "fertility": 2.637,
          "life_expect": 49.339,
          "pop": 44344136,
          "region": "Africa",
          "year": 2005
         },
         {
          "cluster": 1,
          "country": "Spain",
          "fertility": 2.75,
          "life_expect": 66.66,
          "pop": 29318745,
          "region": "Europe",
          "year": 1955
         },
         {
          "cluster": 1,
          "country": "Spain",
          "fertility": 1.409,
          "life_expect": 80.941,
          "pop": 40341462,
          "region": "Europe",
          "year": 2005
         },
         {
          "cluster": 1,
          "country": "Switzerland",
          "fertility": 2.34,
          "life_expect": 70.56,
          "pop": 4980000,
          "region": "Europe",
          "year": 1955
         },
         {
          "cluster": 1,
          "country": "Switzerland",
          "fertility": 1.42,
          "life_expect": 81.701,
          "pop": 7489370,
          "region": "Europe",
          "year": 2005
         },
         {
          "cluster": 1,
          "country": "Turkey",
          "fertility": 6.6,
          "life_expect": 48.079,
          "pop": 24144571,
          "region": "Europe",
          "year": 1955
         },
         {
          "cluster": 1,
          "country": "Turkey",
          "fertility": 2.143,
          "life_expect": 71.777,
          "pop": 69660559,
          "region": "Europe",
          "year": 2005
         },
         {
          "cluster": 1,
          "country": "United Kingdom",
          "fertility": 2.49,
          "life_expect": 70.42,
          "pop": 50946000,
          "region": "Europe",
          "year": 1955
         },
         {
          "cluster": 1,
          "country": "United Kingdom",
          "fertility": 1.815,
          "life_expect": 79.425,
          "pop": 60441457,
          "region": "Europe",
          "year": 2005
         },
         {
          "cluster": 3,
          "country": "United States",
          "fertility": 3.706,
          "life_expect": 69.49,
          "pop": 165931000,
          "region": "Americas",
          "year": 1955
         },
         {
          "cluster": 3,
          "country": "United States",
          "fertility": 2.054,
          "life_expect": 78.242,
          "pop": 295734134,
          "region": "Americas",
          "year": 2005
         },
         {
          "cluster": 3,
          "country": "Venezuela",
          "fertility": 6.4585,
          "life_expect": 57.907,
          "pop": 6170497,
          "region": "Americas",
          "year": 1955
         },
         {
          "cluster": 3,
          "country": "Venezuela",
          "fertility": 2.547,
          "life_expect": 73.747,
          "pop": 25375281,
          "region": "Americas",
          "year": 2005
         }
        ]
       },
       "encoding": {
        "color": {
         "field": "region",
         "type": "nominal"
        },
        "column": {
         "field": "year",
         "type": "quantitative"
        },
        "x": {
         "field": "life_expect",
         "type": "quantitative"
        },
        "y": {
         "field": "fertility",
         "type": "quantitative"
        }
       },
       "mark": "point"
      },
      "image/png": "[encoded data removed]",
      "text/plain": [
       "<VegaLite 3 object>\n",
       "\n",
       "If you see this message, it means the renderer has not been properly enabled\n",
       "for the frontend that you are using. For more information, see\n",
       "https://altair-viz.github.io/user_guide/troubleshooting.html\n"
      ]
     },
     "metadata": {},
     "output_type": "display_data"
    }
   ],
   "source": [
    "chart = alt.Chart(\n",
    "    df[df['year'].isin([1955, 2005])]\n",
    ").mark_point(\n",
    ").encode(\n",
    "    x='life_expect',\n",
    "    y='fertility',\n",
    "    color='region:N',\n",
    "    column='year'\n",
    ")\n",
    "\n",
    "chart.display()"
   ]
  },
  {
   "cell_type": "code",
   "execution_count": null,
   "metadata": {},
   "outputs": [],
   "source": []
  }
 ],
 "metadata": {
  "kernelspec": {
   "display_name": "Python 3",
   "language": "python",
   "name": "python3"
  },
  "language_info": {
   "codemirror_mode": {
    "name": "ipython",
    "version": 3
   },
   "file_extension": ".py",
   "mimetype": "text/x-python",
   "name": "python",
   "nbconvert_exporter": "python",
   "pygments_lexer": "ipython3",
   "version": "3.7.3"
  }
 },
 "nbformat": 4,
 "nbformat_minor": 4
}
