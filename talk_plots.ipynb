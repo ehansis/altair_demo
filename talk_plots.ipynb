{
 "cells": [
  {
   "cell_type": "code",
   "execution_count": 38,
   "metadata": {},
   "outputs": [],
   "source": [
    "import altair as alt\n",
    "import pandas as pd\n",
    "from vega_datasets import data"
   ]
  },
  {
   "cell_type": "code",
   "execution_count": 3,
   "metadata": {},
   "outputs": [],
   "source": [
    "df = pd.DataFrame({\n",
    "    'Name': ['Big M*c', 'Lg Supreme Pizza', '12\" Veggie Delite', \"500ml Coke\"],\n",
    "    'Calories': [540, 350, 460, 210],\n",
    "    'Fat': [28, 17, 6, 0],\n",
    "    'Sugar': [9, 2, 12, 53]\n",
    "})"
   ]
  },
  {
   "cell_type": "code",
   "execution_count": 16,
   "metadata": {},
   "outputs": [
    {
     "data": {
      "application/vnd.vegalite.v3+json": {
       "$schema": "https://vega.github.io/schema/vega-lite/v3.4.0.json",
       "background": "#fff",
       "config": {
        "mark": {
         "tooltip": null
        },
        "view": {
         "height": 300,
         "width": 400
        }
       },
       "data": {
        "name": "data-d7a009f4d34c853c57fc55b6505475b6"
       },
       "datasets": {
        "data-d7a009f4d34c853c57fc55b6505475b6": [
         {
          "Calories": 540,
          "Fat": 28,
          "Name": "Big M*c",
          "Sugar": 9
         },
         {
          "Calories": 350,
          "Fat": 17,
          "Name": "Lg Supreme Pizza",
          "Sugar": 2
         },
         {
          "Calories": 460,
          "Fat": 6,
          "Name": "12\" Veggie Delite",
          "Sugar": 12
         },
         {
          "Calories": 210,
          "Fat": 0,
          "Name": "500ml Coke",
          "Sugar": 53
         }
        ]
       },
       "encoding": {
        "x": {
         "field": "Name",
         "type": "nominal"
        },
        "y": {
         "field": "Calories",
         "type": "quantitative"
        }
       },
       "height": 200,
       "mark": "bar",
       "padding": 20,
       "width": 150
      },
      "image/png": "[encoded data removed]",
      "text/plain": [
       "<VegaLite 3 object>\n",
       "\n",
       "If you see this message, it means the renderer has not been properly enabled\n",
       "for the frontend that you are using. For more information, see\n",
       "https://altair-viz.github.io/user_guide/troubleshooting.html\n"
      ]
     },
     "execution_count": 16,
     "metadata": {},
     "output_type": "execute_result"
    }
   ],
   "source": [
    "alt.Chart(\n",
    "    df,\n",
    "    padding=20,\n",
    "    background='#fff'\n",
    ").mark_bar(\n",
    ").encode(\n",
    "    x='Name',\n",
    "    y='Calories'\n",
    ").properties(\n",
    "    width=150,\n",
    "    height=200\n",
    ")"
   ]
  },
  {
   "cell_type": "code",
   "execution_count": 12,
   "metadata": {},
   "outputs": [
    {
     "data": {
      "application/vnd.vegalite.v3+json": {
       "$schema": "https://vega.github.io/schema/vega-lite/v3.4.0.json",
       "background": "#fff",
       "config": {
        "mark": {
         "tooltip": null
        },
        "view": {
         "height": 300,
         "width": 400
        }
       },
       "data": {
        "name": "data-d7a009f4d34c853c57fc55b6505475b6"
       },
       "datasets": {
        "data-d7a009f4d34c853c57fc55b6505475b6": [
         {
          "Calories": 540,
          "Fat": 28,
          "Name": "Big M*c",
          "Sugar": 9
         },
         {
          "Calories": 350,
          "Fat": 17,
          "Name": "Lg Supreme Pizza",
          "Sugar": 2
         },
         {
          "Calories": 460,
          "Fat": 6,
          "Name": "12\" Veggie Delite",
          "Sugar": 12
         },
         {
          "Calories": 210,
          "Fat": 0,
          "Name": "500ml Coke",
          "Sugar": 53
         }
        ]
       },
       "encoding": {
        "size": {
         "field": "Calories",
         "type": "quantitative"
        },
        "x": {
         "field": "Fat",
         "type": "quantitative"
        },
        "y": {
         "field": "Sugar",
         "type": "quantitative"
        }
       },
       "height": 200,
       "mark": "circle",
       "padding": 20,
       "width": 200
      },
      "image/png": "[encoded data removed]",
      "text/plain": [
       "<VegaLite 3 object>\n",
       "\n",
       "If you see this message, it means the renderer has not been properly enabled\n",
       "for the frontend that you are using. For more information, see\n",
       "https://altair-viz.github.io/user_guide/troubleshooting.html\n"
      ]
     },
     "execution_count": 12,
     "metadata": {},
     "output_type": "execute_result"
    }
   ],
   "source": [
    "alt.Chart(\n",
    "    df,\n",
    "    padding=20,\n",
    "    background='#fff'\n",
    ").mark_circle(\n",
    ").encode(\n",
    "    x='Fat',\n",
    "    y='Sugar',\n",
    "    size='Calories'\n",
    ").properties(\n",
    "    width=200,\n",
    "    height=00\n",
    ")"
   ]
  },
  {
   "cell_type": "code",
   "execution_count": 37,
   "metadata": {},
   "outputs": [
    {
     "data": {
      "application/vnd.vegalite.v3+json": {
       "$schema": "https://vega.github.io/schema/vega-lite/v3.4.0.json",
       "config": {
        "background": "#fff",
        "mark": {
         "tooltip": null
        },
        "padding": 20,
        "view": {
         "height": 300,
         "width": 400
        }
       },
       "data": {
        "name": "data-d7a009f4d34c853c57fc55b6505475b6"
       },
       "datasets": {
        "data-d7a009f4d34c853c57fc55b6505475b6": [
         {
          "Calories": 540,
          "Fat": 28,
          "Name": "Big M*c",
          "Sugar": 9
         },
         {
          "Calories": 350,
          "Fat": 17,
          "Name": "Lg Supreme Pizza",
          "Sugar": 2
         },
         {
          "Calories": 460,
          "Fat": 6,
          "Name": "12\" Veggie Delite",
          "Sugar": 12
         },
         {
          "Calories": 210,
          "Fat": 0,
          "Name": "500ml Coke",
          "Sugar": 53
         }
        ]
       },
       "layer": [
        {
         "encoding": {
          "x": {
           "field": "Name",
           "type": "nominal"
          },
          "y": {
           "axis": {
            "orient": "left"
           },
           "field": "Calories",
           "type": "quantitative"
          }
         },
         "height": 200,
         "mark": "bar",
         "width": 150
        },
        {
         "encoding": {
          "x": {
           "field": "Name",
           "type": "nominal"
          },
          "y": {
           "axis": {
            "orient": "right"
           },
           "field": "Sugar",
           "type": "quantitative"
          }
         },
         "height": 200,
         "mark": {
          "color": "orange",
          "type": "line"
         },
         "width": 150
        }
       ],
       "resolve": {
        "scale": {
         "y": "independent"
        }
       }
      },
      "image/png": "[encoded data removed]",
      "text/plain": [
       "<VegaLite 3 object>\n",
       "\n",
       "If you see this message, it means the renderer has not been properly enabled\n",
       "for the frontend that you are using. For more information, see\n",
       "https://altair-viz.github.io/user_guide/troubleshooting.html\n"
      ]
     },
     "execution_count": 37,
     "metadata": {},
     "output_type": "execute_result"
    }
   ],
   "source": [
    "base = alt.Chart(\n",
    "    df,\n",
    ").encode(\n",
    "    x='Name'\n",
    ").properties(\n",
    "    width=150,\n",
    "    height=200\n",
    ")\n",
    "\n",
    "cal = base.mark_bar(\n",
    ").encode(\n",
    "    y=alt.Y('Calories', axis=alt.Axis(orient='left')),\n",
    ")\n",
    "\n",
    "sugar = base.mark_line(\n",
    "    color='orange'\n",
    ").encode(\n",
    "    y=alt.Y('Sugar', axis=alt.Axis(orient='right')),\n",
    ")\n",
    "\n",
    "(cal + sugar).resolve_scale(\n",
    "    y='independent'\n",
    ").configure(\n",
    "    padding=20,\n",
    "    background='#fff'\n",
    ")"
   ]
  },
  {
   "cell_type": "code",
   "execution_count": 39,
   "metadata": {},
   "outputs": [
    {
     "data": {
      "application/vnd.vegalite.v3+json": {
       "$schema": "https://vega.github.io/schema/vega-lite/v3.4.0.json",
       "background": "#fff",
       "config": {
        "mark": {
         "tooltip": null
        },
        "view": {
         "height": 300,
         "width": 400
        }
       },
       "data": {
        "url": "https://vega.github.io/vega-datasets/data/movies.json"
       },
       "encoding": {
        "x": {
         "bin": true,
         "field": "IMDB_Rating",
         "type": "quantitative"
        },
        "y": {
         "aggregate": "count",
         "type": "quantitative"
        }
       },
       "mark": "bar",
       "padding": 20
      },
      "image/png": "[encoded data removed]",
      "text/plain": [
       "<VegaLite 3 object>\n",
       "\n",
       "If you see this message, it means the renderer has not been properly enabled\n",
       "for the frontend that you are using. For more information, see\n",
       "https://altair-viz.github.io/user_guide/troubleshooting.html\n"
      ]
     },
     "execution_count": 39,
     "metadata": {},
     "output_type": "execute_result"
    }
   ],
   "source": [
    "source = data.movies.url\n",
    "\n",
    "alt.Chart(\n",
    "    source,\n",
    "    padding=20,\n",
    "    background='#fff'\n",
    ").mark_bar(\n",
    ").encode(\n",
    "    alt.X(\"IMDB_Rating:Q\", bin=True),\n",
    "    y='count()',\n",
    ")"
   ]
  },
  {
   "cell_type": "code",
   "execution_count": null,
   "metadata": {},
   "outputs": [],
   "source": []
  }
 ],
 "metadata": {
  "kernelspec": {
   "display_name": "Python 3",
   "language": "python",
   "name": "python3"
  },
  "language_info": {
   "codemirror_mode": {
    "name": "ipython",
    "version": 3
   },
   "file_extension": ".py",
   "mimetype": "text/x-python",
   "name": "python",
   "nbconvert_exporter": "python",
   "pygments_lexer": "ipython3",
   "version": "3.7.3"
  }
 },
 "nbformat": 4,
 "nbformat_minor": 4
}
